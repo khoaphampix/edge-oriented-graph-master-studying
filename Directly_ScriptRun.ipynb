{
 "cells": [
  {
   "cell_type": "code",
   "execution_count": null,
   "metadata": {
    "id": "eQ4WwJ1ol5ud"
   },
   "outputs": [],
   "source": [
    "# !pip install --target=$nb_path networkx\n",
    "# !pip install --target=$nb_path yamlordereddictloader\n",
    "# !pip install --target=$nb_path recordtype"
   ]
  },
  {
   "cell_type": "code",
   "execution_count": 16,
   "metadata": {},
   "outputs": [],
   "source": [
    "# %cd /home/edge-oriented-graph-master-studying\n",
    "# !mkdir /home/edge-oriented-graph-master-studying/data\n",
    "# !mkdir /home/edge-oriented-graph-master-studying/data/VLSP\n",
    "# !mkdir /home/edge-oriented-graph-master-studying/data/VLSP/processed\n",
    "# cd /home/edge-oriented-graph-master-studying/data/VLSP/processed\n",
    "# %ll -ltlh\n",
    "\n",
    "\n"
   ]
  },
  {
   "cell_type": "code",
   "execution_count": null,
   "metadata": {
    "id": "vPl8AJZqCsu4"
   },
   "outputs": [
    {
     "name": "stdout",
     "output_type": "stream",
     "text": [
      "/home/edge-oriented-graph-master-studying/src\n",
      "torch.cuda.max_memory_split >>>\n",
      "64\n",
      "Loading training data ...\n",
      "duplicates_times >>>  59459\n",
      "  Documents: 422  \n",
      "  Words: 22612\n",
      "  Relations: 15034\n",
      "\t1:AFFILIATION:2\t696  \tID: 0\n",
      "\t1:LOCATED:2\t477  \tID: 1\n",
      "\t1:NR:2    \t12844\tID: 2\n",
      "\t1:PART - WHOLE:2\t934  \tID: 3\n",
      "\t1:PERSONAL - SOCIAL:2\t83   \tID: 4\n",
      "  Entities: 5043\n",
      "\t<ENT>     \t1    \tID: 0\n",
      "\t<MENT>    \t1    \tID: 1\n",
      "\t<SENT>    \t1    \tID: 2\n",
      "\tLOCATION  \t2144 \tID: 5\n",
      "\tORGANIZATION\t1599 \tID: 3\n",
      "\tPERSON    \t1300 \tID: 4\n",
      "  Singletons: 11904/22612\n",
      "  Preparing TRAIN data - PMID 23366765: 100%|█| 422/422 [00:19<00:00, 21.29it/s]\n",
      "\n",
      "Loading testing data ...\n",
      "duplicates_times >>>  31328\n",
      "  Documents: 231  \n",
      "  Words: 13617\n",
      "  Relations: 8313\n",
      "\t1:AFFILIATION:2\t457  \tID: 0\n",
      "\t1:LOCATED:2\t327  \tID: 3\n",
      "\t1:NR:2    \t6957 \tID: 1\n",
      "\t1:PART - WHOLE:2\t483  \tID: 2\n",
      "\t1:PERSONAL - SOCIAL:2\t89   \tID: 4\n",
      "  Entities: 2961\n",
      "\t<ENT>     \t1    \tID: 0\n",
      "\t<MENT>    \t1    \tID: 1\n",
      "\t<SENT>    \t1    \tID: 2\n",
      "\tLOCATION  \t1101 \tID: 5\n",
      "\tORGANIZATION\t874  \tID: 3\n",
      "\tPERSON    \t986  \tID: 4\n",
      "  Singletons: 7142/13617\n",
      "  Preparing TEST data - PMID 23352736: 100%|██| 231/231 [00:12<00:00, 18.06it/s]\n",
      "\n",
      "Parameters:\n",
      "            - Train Data        ../data/VLSP/processed/vlsp_processed_11_05_23_1h_TRAIN_line_478_1st_filtered_with_no_rel_remove_big\n",
      "            - Test Data         ../data/VLSP/processed/vlsp_processed_11_05_23_1h_DEV_line_246_1st_filtered_with_no_rel_remove_big\n",
      "            - Embeddings        0, Freeze: True\n",
      "            - Save folder       ../results/vlsp-test\n",
      "\n",
      "            - batchsize         1\n",
      "            - Walks iteration   2 -> Length = 4\n",
      "            - beta              0.77\n",
      "\n",
      "            - Context           True\n",
      "            - Node Type         True\n",
      "            - Distances         True\n",
      "            - Edge Types        ['MM', 'ME', 'MS', 'ES', 'SS-ind']\n",
      "            - Window            None\n",
      "            \n",
      "            - Epoch             20\n",
      "            - UNK word prob     0.5\n",
      "            - Parameter Average True\n",
      "            - Early stop        False -> Patience = 10\n",
      "            - Regularization    0.0001\n",
      "            - Gradient Clip     10\n",
      "            - Dropout I/O       0.5/0.2\n",
      "            - Learning rate     0.003\n",
      "            - Seed              0\n",
      "            \n",
      "encoder.enc.weight_ih_l0\n",
      "encoder.enc.weight_hh_l0\n",
      "encoder.enc.bias_ih_l0\n",
      "encoder.enc.bias_hh_l0\n",
      "encoder.enc.weight_ih_l0_reverse\n",
      "encoder.enc.weight_hh_l0_reverse\n",
      "encoder.enc.bias_ih_l0_reverse\n",
      "encoder.enc.bias_hh_l0_reverse\n",
      "dist_embed.embedding.weight\n",
      "type_embed.embedding.weight\n",
      "reduce.MM.weight\n",
      "reduce.SS.weight\n",
      "reduce.ME.weight\n",
      "reduce.MS.weight\n",
      "reduce.ES.weight\n",
      "walk.W\n",
      "classifier.lin.weight\n",
      "classifier.lin.bias\n",
      "\n",
      "======== START TRAINING: 11-05-23_04:28:35 ========\n",
      "\n",
      "print(torch.cuda.max_memory_split) >>>\n",
      "64\n",
      "/home/edge-oriented-graph-master-studying/src/nnet/trainer.py:179: UserWarning: Anomaly Detection has been enabled. This mode will increase the runtime and should only be enabled for debugging.\n",
      "  with autograd.detect_anomaly():\n",
      "/opt/conda/lib/python3.8/site-packages/torch/functional.py:504: UserWarning: torch.meshgrid: in an upcoming release, it will be required to pass the indexing argument. (Triggered internally at ../aten/src/ATen/native/TensorShape.cpp:3190.)\n",
      "  return _VF.meshgrid(tensors, **kwargs)  # type: ignore[attr-defined]\n",
      "/home/edge-oriented-graph-master-studying/src/nnet/walks.py:39: UserWarning: where received a uint8 condition tensor. This behavior is deprecated and will be removed in a future version of PyTorch. Use a boolean condition instead. (Triggered internally at ../aten/src/ATen/native/TensorCompare.cpp:413.)\n",
      "  graph = torch.where(adj.unsqueeze(-1), graph, torch.zeros_like(graph))\n",
      "Epoch: 01 | TRAIN | LOSS = nan, ACC = 0.7933 , MICRO P/R/F1 = 0.0886\t0.0482\t0.0624 | TP/ACTUAL/PRED = 94     /1950   /1061   , TOTAL 13656   | 0h 00m 50s\n",
      "            TEST  | LOSS = nan, ACC = 0.7947 , MICRO P/R/F1 = 0.2603\t0.1399\t0.1820 | TP/ACTUAL/PRED = 165    /1179   /634    , TOTAL 7224    | 0h 00m 06s\n",
      "\n",
      "Epoch: 02 | TRAIN | LOSS = nan, ACC = 0.8219 , MICRO P/R/F1 = 0.2247\t0.1015\t0.1399 | TP/ACTUAL/PRED = 198    /1950   /881    , TOTAL 13673   | 0h 00m 50s\n",
      "            TEST  | LOSS = nan, ACC = 0.7651 , MICRO P/R/F1 = 0.2901\t0.3113\t0.3003 | TP/ACTUAL/PRED = 367    /1179   /1265   , TOTAL 7280    | 0h 00m 06s\n",
      "\n",
      "Epoch: 03 | TRAIN | LOSS = nan, ACC = 0.8256 , MICRO P/R/F1 = 0.3136\t0.1877\t0.2348 | TP/ACTUAL/PRED = 366    /1950   /1167   , TOTAL 13679   | 0h 00m 47s\n",
      "            TEST  | LOSS = nan, ACC = 0.8369 , MICRO P/R/F1 = 0.5152\t0.2019\t0.2901 | TP/ACTUAL/PRED = 238    /1179   /462    , TOTAL 7142    | 0h 00m 06s\n",
      "\n"
     ]
    }
   ],
   "source": [
    "# !python3 eog.py --config ../configs/parameters_cdr.yaml --train --gpu 0 --early_stop       # using early stopping\n",
    "# !python3 eog.py --config ../configs/parameters_cdr.yaml --test --gpu 0\n",
    "\n",
    "%cd /home/edge-oriented-graph-master-studying/src\n",
    "!python3 eog.py --config ../configs/parameters_cdr.yaml --train --gpu 0 --epoch 20        # train until the 15th epoch *without* early stopping"
   ]
  },
  {
   "cell_type": "code",
   "execution_count": null,
   "metadata": {},
   "outputs": [],
   "source": []
  }
 ],
 "metadata": {
  "accelerator": "GPU",
  "colab": {
   "collapsed_sections": [],
   "name": "Copy_of_ScriptRunner (1).ipynb",
   "private_outputs": true,
   "provenance": [],
   "toc_visible": true
  },
  "kernelspec": {
   "display_name": "Python 3",
   "language": "python",
   "name": "python3"
  },
  "language_info": {
   "codemirror_mode": {
    "name": "ipython",
    "version": 3
   },
   "file_extension": ".py",
   "mimetype": "text/x-python",
   "name": "python",
   "nbconvert_exporter": "python",
   "pygments_lexer": "ipython3",
   "version": "3.8.12"
  }
 },
 "nbformat": 4,
 "nbformat_minor": 4
}
