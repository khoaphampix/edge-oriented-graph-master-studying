{
 "cells": [
  {
   "cell_type": "code",
   "execution_count": null,
   "metadata": {
    "id": "eQ4WwJ1ol5ud"
   },
   "outputs": [],
   "source": [
    "# !pip install --target=$nb_path networkx\n",
    "# !pip install --target=$nb_path yamlordereddictloader\n",
    "# !pip install --target=$nb_path recordtype"
   ]
  },
  {
   "cell_type": "code",
   "execution_count": null,
   "metadata": {},
   "outputs": [],
   "source": [
    "# git clone https://github.com/khoaphampix/edge-oriented-graph-master-studying.git\n",
    "# cd /home/edge-oriented-graph-master-studying\n",
    "# git checkout dev-low-memory"
   ]
  },
  {
   "cell_type": "code",
   "execution_count": null,
   "metadata": {},
   "outputs": [],
   "source": [
    "# %cd /home/edge-oriented-graph-master-studying\n",
    "# !mkdir /home/edge-oriented-graph-master-studying/data\n",
    "# !mkdir /home/edge-oriented-graph-master-studying/data/VLSP\n",
    "# !mkdir /home/edge-oriented-graph-master-studying/data/VLSP/processed\n",
    "# cd /home/edge-oriented-graph-master-studying/data/VLSP/processed\n",
    "# %ll -ltlh\n",
    "\n",
    "\n"
   ]
  },
  {
   "cell_type": "code",
   "execution_count": null,
   "metadata": {
    "id": "vPl8AJZqCsu4"
   },
   "outputs": [],
   "source": [
    "# !python3 eog.py --config ../configs/parameters_cdr.yaml --train --gpu 0 --early_stop       # using early stopping\n",
    "# !python3 eog.py --config ../configs/parameters_cdr.yaml --test --gpu 0\n",
    "\n",
    "%cd /home/edge-oriented-graph-master-studying/src\n",
    "!python3 eog.py --config ../configs/parameters_cdr.yaml --train --gpu 0 --epoch 20        # train until the 15th epoch *without* early stopping"
   ]
  },
  {
   "cell_type": "code",
   "execution_count": null,
   "metadata": {},
   "outputs": [],
   "source": [
    "import os\n",
    "import shutil\n",
    "import zipfile\n",
    "import requests\n",
    "\n",
    "# Define the URL of the Jupyter Notebook server\n",
    "server_url = \"https://notebookse.jarvislabs.ai/061/lab/tree/edge-oriented-graph-master-studying/ScriptRun.ipynb\"\n",
    "\n",
    "folder_path = \"/home/edge-oriented-graph-master-studying/results/vlsp-test\"\n",
    "\n",
    "\n",
    "import os\n",
    "import shutil\n",
    "import zipfile\n",
    "import requests\n",
    "\n",
    "from datetime import datetime\n",
    "now_time = datetime.today().strftime('%Y-%m-%d %H-%M-%S')\n",
    "\n",
    "# Define the URL of the Jupyter Notebook server\n",
    "# server_url = \"http://<your-notebook-server-url>:<port>\"\n",
    "\n",
    "# # Define the path of the folder to zip and download\n",
    "# folder_path = \"<remote-folder-path>\"\n",
    "folder_path_new = folder_path+now_time\n",
    "\n",
    "! ls /home/edge-oriented-graph-master-studying/results\n",
    "os.rename(folder_path, folder_path_new)\n",
    "! ls /home/edge-oriented-graph-master-studying/results\n",
    "\n",
    "folder_path = folder_path_new\n",
    "\n",
    "zip_path = folder_path +\".zip\"\n",
    "\n",
    "# Zip the folder on the server\n",
    "if os.path.exists(folder_path):\n",
    "    shutil.make_archive(folder_path, 'zip', folder_path)\n",
    "    print(\"Folder zipped successfully\")\n",
    "else:\n",
    "    print(\"Folder does not exist\")\n",
    "\n",
    "\n",
    "os.remove(\"/Users/ben/downloads/\" + item)\n",
    "\n",
    "\n",
    "\n",
    "\n",
    "# # Download the zipped folder from the server\n",
    "# response = requests.get(server_url + \"/api/contents/\" + zip_path)\n",
    "# if response.status_code == 200:\n",
    "#     with open(os.path.basename(zip_path), \"wb\") as file:\n",
    "#         file.write(response.content)\n",
    "#     with zipfile.ZipFile(os.path.basename(zip_path), \"r\") as zip_ref:\n",
    "#         zip_ref.extractall(os.path.dirname(os.path.abspath(zip_path)))\n",
    "#     print(\"Folder downloaded and unzipped successfully\")\n",
    "# else:\n",
    "#     print(\"Folder download failed\")\n",
    "\n",
    "# # Remove the zipped folder from the server\n",
    "# response = requests.delete(server_url + \"/api/contents/\" + zip_path)\n",
    "# if response.status_code == 204:\n",
    "#     print(\"Zipped folder removed from server successfully\")\n",
    "# else:\n",
    "#     print(\"Zipped folder removal from server failed\")\n",
    "\n"
   ]
  }
 ],
 "metadata": {
  "accelerator": "GPU",
  "colab": {
   "collapsed_sections": [],
   "name": "Copy_of_ScriptRunner (1).ipynb",
   "private_outputs": true,
   "provenance": [],
   "toc_visible": true
  },
  "kernelspec": {
   "display_name": "Python 3",
   "language": "python",
   "name": "python3"
  },
  "language_info": {
   "codemirror_mode": {
    "name": "ipython",
    "version": 3
   },
   "file_extension": ".py",
   "mimetype": "text/x-python",
   "name": "python",
   "nbconvert_exporter": "python",
   "pygments_lexer": "ipython3",
   "version": "3.8.12"
  }
 },
 "nbformat": 4,
 "nbformat_minor": 4
}
