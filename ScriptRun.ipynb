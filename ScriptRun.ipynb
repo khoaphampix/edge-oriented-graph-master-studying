{
  "cells": [
    {
      "cell_type": "code",
      "source": [
        "%pip list"
      ],
      "metadata": {
        "id": "n3kbHE7Y1dJY"
      },
      "execution_count": null,
      "outputs": []
    },
    {
      "cell_type": "code",
      "source": [
        "# !pip install --target=$nb_path torch==1.1.0\n",
        "# !pip install --target=$nb_path numpy==1.16.3\n",
        "# %cd \n",
        "# !pip install --target=$nb_path matplotlib\n",
        "# !pip install --target=$nb_path tqdm\n",
        "# !pip install --target=$nb_path tabulate\n",
        "!pip install --target=$nb_path networkx\n",
        "!pip install --target=$nb_path yamlordereddictloader\n",
        "!pip install --target=$nb_path recordtype\n",
        "!sudo apt-get install ruby-full\n"
      ],
      "metadata": {
        "id": "eQ4WwJ1ol5ud"
      },
      "execution_count": null,
      "outputs": []
    },
    {
      "cell_type": "markdown",
      "source": [
        ""
      ],
      "metadata": {
        "id": "r7ZqhdhD1a2A"
      }
    },
    {
      "cell_type": "code",
      "execution_count": null,
      "metadata": {
        "id": "b68Sb0N4Ecdw"
      },
      "outputs": [],
      "source": [
        "\n",
        "# https://ayoolafelix.hashnode.dev/how-to-permanently-install-a-module-on-google-colab-ckixqrvs40su044s187y274tc\n",
        "# https://stackoverflow.com/questions/51194303/how-to-run-a-python-script-in-a-py-file-from-a-google-colab-notebook\n",
        "# main data \n",
        "# https://drive.google.com/drive/folders/1c5-0YwnoJx8NS6CV2f-NoTHR__BdkNqw\n",
        "\n",
        "from google.colab import drive\n",
        "drive.mount('/content/drive')"
      ]
    },
    {
      "cell_type": "code",
      "execution_count": null,
      "metadata": {
        "id": "RDB5A86_GFqi"
      },
      "outputs": [],
      "source": [
        "# %cd  '/content/drive/MyDrive/A_thesis/edge-oriented-graph-master.zip/edge-oriented-graph-master/'\n",
        "# %cd  '/content/drive/MyDrive/A_thesis/coding/demoGnn/edge-oriented-graph-master.zip/edge-oriented-graph-master/'\n",
        "\n",
        "%cd  '/content/drive/MyDrive/A_thesis/coding/demoGnn/edge-oriented-graph-master.zip/edge-oriented-graph-master/data_processing/common'\n",
        "\n",
        "# %cd data_processing\n",
        "# %cd common\n",
        "# %ls \n",
        "# !chown -R genia-tagger-py\n",
        "# !chmod -R genia-tagger-py/"
      ]
    },
    {
      "cell_type": "code",
      "execution_count": null,
      "metadata": {
        "id": "4vD_B0qzp25c"
      },
      "outputs": [],
      "source": [
        "# %mkdir data\n",
        "# %cd data\n",
        "# %ls \n",
        "# %cd '/content/drive/MyDrive/AiTraining/DocRe/edge-oriented-graph-master/data'\n",
        "# !wget https://biocreative.bioinformatics.udel.edu/media/store/files/2016/CDR_Data.zip && unzip CDR_Data.zip && mv CDR_Data CDR\n",
        "# !wget https://biocreative.bioinformatics.udel.edu/media/store/files/2016/CDR_Data.zip \n",
        "# !unzip CDR_Data.zip \n",
        "# %mv CDR_Data CDR\n",
        "\n",
        "# !wget https://bitbucket.org/alexwuhkucs/gda-extraction/get/fd4a7409365e.zip && unzip fd4a7409365e.zip && mv alexwuhkucs-gda-extraction-fd4a7409365e GDA\n",
        "# !wget https://bitbucket.org/alexwuhkucs/gda-extraction/get/fd4a7409365e.zip\n",
        "# !unzip fd4a7409365e.zip \n",
        "# %mv alexwuhkucs-gda-extraction-fd4a7409365e GDA\n",
        "\n",
        "%cd  '/content/drive/MyDrive/A_thesis/coding/demoGnn/edge-oriented-graph-master.zip/edge-oriented-graph-master/data_processing/'\n",
        "\n",
        "\n",
        "\n",
        "# %cd ..\n",
        "# %ls\n",
        "\n",
        "# %cd data_processing\n",
        "# %mkdir common \n",
        "# %cd common\n",
        "# !wget http://www.nactem.ac.uk/y-matsu/geniass/geniass-1.00.tar.gz && tar xvzf geniass-1.00.tar.gz\n",
        "# %cd geniass/ \n",
        "# %ls\n",
        "# !make \n",
        "# %cd ..\n",
        "\n",
        "\n",
        "# !git clone https://github.com/bornabesic/genia-tagger-py.git\n",
        "# %pwd\n",
        "# %ls\n",
        "# %cd genia-tagger-py \n",
        "# !make\n",
        "# %cd ../../\n",
        "# %cd \n",
        "# !sudo apt-get install ruby-full\n"
      ]
    },
    {
      "cell_type": "code",
      "source": [
        "\n",
        "# !nvidia-smi\n",
        "# \n",
        "# %ls\n",
        "# %cd data_processing\n",
        "\n",
        "%cd  '/content/drive/MyDrive/A_thesis/coding/demoGnn/edge-oriented-graph-master.zip/edge-oriented-graph-master/data_processing/'\n",
        "\n",
        "# !sh process_gda.\n",
        "# !chmod 777 -R /content/drive/MyDrive/A_thesis/coding/demoGnn/edge-oriented-graph-master.zip/edge-oriented-graph-master/data_processing/\n",
        "# !sudo apt-get install ruby-full\n",
        "\n",
        "!sh process_gda.sh\n",
        "\n"
      ],
      "metadata": {
        "id": "tNhtdT8HoZPB"
      },
      "execution_count": null,
      "outputs": []
    },
    {
      "cell_type": "code",
      "source": [
        "# !python3 statistics.py --data ../data/CDR/processed/train_filter.data\n",
        "# !python3 statistics.py --data ../data/CDR/processed/dev_filter.data\n",
        "# !python3 statistics.py --data ../data/CDR/processed/test_filter.data"
      ],
      "metadata": {
        "id": "59tOi8wRyL1F"
      },
      "execution_count": null,
      "outputs": []
    },
    {
      "cell_type": "code",
      "source": [
        "\n",
        "%cd  '/content/drive/MyDrive/A_thesis/coding/demoGnn/edge-oriented-graph-master.zip/edge-oriented-graph-master/src/'\n",
        "\n",
        "# !python3 eog.py --config ../configs/parameters_cdr.yaml --train --gpu 0 --early_stop       # using early stopping\n",
        "# !python3 eog.py --config ../configs/parameters_cdr.yaml --train --gpu 0 --epoch 15         # train until the 15th epoch *without* early stopping\n",
        "# !python3 eog.py --config ../configs/parameters_cdr.yaml --train --gpu 0 --epoch 15 --early_stop  # set both early stop and max epoch\n",
        "\n",
        "# !python3 eog.py --config ../configs/parameters_cdr.yaml --test --gpu 0"
      ],
      "metadata": {
        "id": "v2lCTEJQAzdO"
      },
      "execution_count": null,
      "outputs": []
    },
    {
      "cell_type": "code",
      "source": [
        "\n",
        "\n",
        "%cd  '/content/drive/MyDrive/A_thesis/coding/demoGnn/edge-oriented-graph-master.zip/edge-oriented-graph-master/src/'\n",
        "# !python3 eog.py --config ../configs/parameters_cdr.yaml --train --gpu 0 --early_stop       # using early stopping\n",
        "# !python3 eog.py --config ../configs/parameters_cdr.yaml --train --gpu 0 --epoch 15         # train until the 15th epoch *without* early stopping\n",
        "!python3 eog.py --config ../configs/parameters_gda.yaml --train --gpu 0 --epoch 15 --early_stop  # set both early stop and max epoch\n",
        "\n",
        "# !python3 eog.py --config ../configs/parameters_cdr.yaml --test --gpu 0"
      ],
      "metadata": {
        "id": "vPl8AJZqCsu4"
      },
      "execution_count": null,
      "outputs": []
    }
  ],
  "metadata": {
    "colab": {
      "collapsed_sections": [],
      "name": "Copy_of_ScriptRunner (1).ipynb",
      "toc_visible": true,
      "provenance": [],
      "private_outputs": true
    },
    "kernelspec": {
      "display_name": "Python 3",
      "name": "python3"
    },
    "language_info": {
      "name": "python"
    },
    "accelerator": "GPU"
  },
  "nbformat": 4,
  "nbformat_minor": 0
}