{
  "cells": [
    {
      "cell_type": "code",
      "execution_count": 7,
      "metadata": {},
      "outputs": [],
      "source": [
        "# back up file that has error ent no in ent \n",
        "# copy & replace it in processed file for train \n",
        "\n"
      ]
    },
    {
      "cell_type": "code",
      "execution_count": 8,
      "metadata": {},
      "outputs": [],
      "source": [
        "import os\n",
        "import shutil\n",
        "\n",
        "# set the paths to the source and destination folders\n",
        "def copy_file_in_list_from_folder_to_folder(input_file, source_folder, destination_folder):\n",
        "\n",
        "    # read the input file and save the lines to a list\n",
        "    with open(input_file, 'r') as f:\n",
        "        file_list = f.read().splitlines()\n",
        "    file_list = set(file_list)  \n",
        "\n",
        "    # iterate over the files in the list and copy them to the destination folder\n",
        "    for filename in file_list:\n",
        "        source_path = os.path.join(source_folder, filename)\n",
        "        # print(source_path)\n",
        "        if not os.path.isfile(source_path):\n",
        "            continue\n",
        "        # print(source_path)\n",
        "        destination_path = os.path.join(destination_folder, filename)\n",
        "        shutil.copyfile(source_path, destination_path)\n",
        "\n",
        "input_file = \\\n",
        "\"/Users/n2t2k/Documents/Studying/Master/Thesis/InProgress/Coding/ORIGIN_RUN_ALL_edge-oriented-graph-master-studying/dataProcessingOfficialCleaned/dev_processed/split_sentence_underthesea/error/copy_and_replace_worked_fils/work_file_list\"\n",
        "destination_folder = '/Users/n2t2k/Documents/Studying/Master/Thesis/InProgress/Coding/ORIGIN_RUN_ALL_edge-oriented-graph-master-studying/dataProcessingOfficialCleaned/dev_processed/split_sentence_underthesea/error/copy_and_replace_worked_fils/worked_files'\n",
        "NEWEST_source_folder = \\\n",
        "    \"/Users/n2t2k/Documents/Studying/Master/Thesis/InProgress/Coding/ORIGIN_RUN_ALL_edge-oriented-graph-master-studying/dataProcessingOfficialCleaned/dev_processed/split_sentence_underthesea/docs/common_info_embedd_files/split_passage_for_final_processed_NEW\"\n",
        "\n",
        "copy_file_in_list_from_folder_to_folder(input_file, NEWEST_source_folder, destination_folder)\n",
        "\n"
      ]
    },
    {
      "cell_type": "code",
      "execution_count": 9,
      "metadata": {},
      "outputs": [
        {
          "name": "stdout",
          "output_type": "stream",
          "text": [
            "source_path  23351434\n",
            "source_path  23351700\n",
            "source_path  23357652\n",
            "source_path  23358011\n",
            "source_path  23357389\n"
          ]
        }
      ],
      "source": [
        "import os\n",
        "import shutil\n",
        "\n",
        "# set the paths to the source and destination folders\n",
        "def copy_file_in_list_from_folder_to_folder(input_file, source_folder, destination_folder):\n",
        "\n",
        "    # read the input file and save the lines to a list\n",
        "    with open(input_file, 'r') as f:\n",
        "        file_list = f.read().splitlines()\n",
        "\n",
        "    # iterate over the files in the list and copy them to the destination folder\n",
        "    for filename in file_list:\n",
        "        # print(filename)\n",
        "        source_path = os.path.join(source_folder, filename)\n",
        "        # print(\"source_path \", source_path)    \n",
        "        if not os.path.isfile(source_path):\n",
        "            continue\n",
        "        print(\"source_path \", filename[-10:])    \n",
        "        destination_path = os.path.join(destination_folder, filename)\n",
        "        shutil.copyfile(source_path, destination_path)\n",
        "\n",
        "input_file = \\\n",
        "\"/Users/n2t2k/Documents/Studying/Master/Thesis/InProgress/Coding/ORIGIN_RUN_ALL_edge-oriented-graph-master-studying/dataProcessingOfficialCleaned/dev_processed/split_sentence_underthesea/error/copy_and_replace_worked_fils/work_file_list\"\n",
        "source_folder = '/Users/n2t2k/Documents/Studying/Master/Thesis/InProgress/Coding/ORIGIN_RUN_ALL_edge-oriented-graph-master-studying/dataProcessingOfficialCleaned/dev_processed/split_sentence_underthesea/error/copy_and_replace_worked_fils/worked_files'\n",
        "destination_folder = '/Users/n2t2k/Documents/Studying/Master/Thesis/InProgress/Coding/ORIGIN_RUN_ALL_edge-oriented-graph-master-studying/dataProcessingOfficialCleaned/dev_processed/split_sentence_underthesea/docs/common_info_embedd_files/split_passage_for_final_processed'\n",
        "\n",
        "copy_file_in_list_from_folder_to_folder(input_file, source_folder, destination_folder)\n",
        "\n"
      ]
    }
  ],
  "metadata": {
    "accelerator": "GPU",
    "colab": {
      "provenance": []
    },
    "kernelspec": {
      "display_name": "Python 3",
      "name": "python3"
    },
    "language_info": {
      "codemirror_mode": {
        "name": "ipython",
        "version": 3
      },
      "file_extension": ".py",
      "mimetype": "text/x-python",
      "name": "python",
      "nbconvert_exporter": "python",
      "pygments_lexer": "ipython3",
      "version": "3.7.13"
    }
  },
  "nbformat": 4,
  "nbformat_minor": 0
}
