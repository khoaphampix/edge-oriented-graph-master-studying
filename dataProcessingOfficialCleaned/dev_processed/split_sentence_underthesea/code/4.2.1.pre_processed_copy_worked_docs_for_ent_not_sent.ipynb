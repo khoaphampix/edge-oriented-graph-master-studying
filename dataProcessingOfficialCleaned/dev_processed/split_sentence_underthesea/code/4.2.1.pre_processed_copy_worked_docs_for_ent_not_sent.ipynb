{
  "cells": [
    {
      "cell_type": "code",
      "execution_count": 13,
      "metadata": {},
      "outputs": [],
      "source": [
        "# back up file that has error ent no in ent \n",
        "# copy & replace it in processed file for train \n",
        "\n"
      ]
    },
    {
      "cell_type": "code",
      "execution_count": 14,
      "metadata": {},
      "outputs": [],
      "source": [
        "import os\n",
        "import shutil\n",
        "\n",
        "# set the paths to the source and destination folders\n",
        "def copy_file_in_list_from_folder_to_folder(input_file, source_folder, destination_folder):\n",
        "\n",
        "    # read the input file and save the lines to a list\n",
        "    with open(input_file, 'r') as f:\n",
        "        file_list = f.read().splitlines()\n",
        "\n",
        "    # iterate over the files in the list and copy them to the destination folder\n",
        "    for filename in file_list:\n",
        "        source_path = os.path.join(source_folder, filename)\n",
        "        destination_path = os.path.join(destination_folder, filename)\n",
        "        shutil.copyfile(source_path, destination_path)\n",
        "\n",
        "input_file = \\\n",
        "\"/Users/n2t2k/Documents/Studying/Master/Thesis/InProgress/edge-oriented-graph-master-WORKING/dataProcessingOfficial/dev_processed/split_sentence_underthesea/error/copy_and_replace_worked_fils/work_file_list\"\n",
        "destination_folder = '/Users/n2t2k/Documents/Studying/Master/Thesis/InProgress/edge-oriented-graph-master-WORKING/dataProcessingOfficial/dev_processed/split_sentence_underthesea/error/copy_and_replace_worked_fils/worked_files'\n",
        "source_folder = '/Users/n2t2k/Documents/Studying/Master/Thesis/InProgress/edge-oriented-graph-master-WORKING/dataProcessingOfficial/dev_processed/split_sentence_underthesea/docs/common_info_embedd_files/split_passage_for_final_processed_filtered'\n",
        "\n",
        "copy_file_in_list_from_folder_to_folder(input_file, source_folder, destination_folder)\n",
        "\n"
      ]
    },
    {
      "cell_type": "code",
      "execution_count": 15,
      "metadata": {},
      "outputs": [],
      "source": [
        "import os\n",
        "import shutil\n",
        "\n",
        "# set the paths to the source and destination folders\n",
        "def copy_file_in_list_from_folder_to_folder(input_file, source_folder, destination_folder):\n",
        "\n",
        "    # read the input file and save the lines to a list\n",
        "    with open(input_file, 'r') as f:\n",
        "        file_list = f.read().splitlines()\n",
        "\n",
        "    # iterate over the files in the list and copy them to the destination folder\n",
        "    for filename in file_list:\n",
        "        source_path = os.path.join(source_folder, filename)\n",
        "        destination_path = os.path.join(destination_folder, filename)\n",
        "        shutil.copyfile(source_path, destination_path)\n",
        "\n",
        "input_file = \\\n",
        "\"/Users/n2t2k/Documents/Studying/Master/Thesis/InProgress/edge-oriented-graph-master-WORKING/dataProcessingOfficial/dev_processed/split_sentence_underthesea/error/copy_and_replace_worked_fils/work_file_list\"\n",
        "source_folder = '/Users/n2t2k/Documents/Studying/Master/Thesis/InProgress/edge-oriented-graph-master-WORKING/dataProcessingOfficial/dev_processed/split_sentence_underthesea/error/copy_and_replace_worked_fils/worked_files'\n",
        "destination_folder = '/Users/n2t2k/Documents/Studying/Master/Thesis/InProgress/edge-oriented-graph-master-WORKING/dataProcessingOfficial/dev_processed/split_sentence_underthesea/docs/common_info_embedd_files/split_passage_for_final_processed'\n",
        "\n",
        "copy_file_in_list_from_folder_to_folder(input_file, source_folder, destination_folder)\n",
        "\n"
      ]
    }
  ],
  "metadata": {
    "accelerator": "GPU",
    "colab": {
      "provenance": []
    },
    "kernelspec": {
      "display_name": "Python 3",
      "name": "python3"
    },
    "language_info": {
      "codemirror_mode": {
        "name": "ipython",
        "version": 3
      },
      "file_extension": ".py",
      "mimetype": "text/x-python",
      "name": "python",
      "nbconvert_exporter": "python",
      "pygments_lexer": "ipython3",
      "version": "3.7.13"
    }
  },
  "nbformat": 4,
  "nbformat_minor": 0
}
