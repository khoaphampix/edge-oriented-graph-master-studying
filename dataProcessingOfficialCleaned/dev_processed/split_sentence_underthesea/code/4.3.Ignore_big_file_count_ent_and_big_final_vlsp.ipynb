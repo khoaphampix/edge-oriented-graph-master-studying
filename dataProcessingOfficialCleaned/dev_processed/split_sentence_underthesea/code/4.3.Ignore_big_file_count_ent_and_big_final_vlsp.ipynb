{
 "cells": [
  {
   "cell_type": "code",
   "execution_count": 19,
   "metadata": {},
   "outputs": [
    {
     "name": "stdout",
     "output_type": "stream",
     "text": [
      "\n"
     ]
    }
   ],
   "source": [
    "from math import factorial\n",
    "\n",
    "# ent_num = {'LOCATION': 135, 'ORGANIZATION': 11, 'PERSON': 91, 'total': 237}\n",
    "# pairs_ent = ['PERSON-LOCATION', 'ORGANIZATION-LOCATION',              'LOCATION-LOCATION', 'ORGANIZATION-ORGANIZATION',              'PERSON-PERSON',              'PERSON-ORGANIZATION', 'LOCATION-ORGANIZATION']\n",
    "\n",
    "# total_pairs = 0\n",
    "# for pair in pairs_ent:\n",
    "#     types = pair.split('-')\n",
    "#     n = ent_num[types[0]]\n",
    "#     r = ent_num[types[1]]\n",
    "#     pairs = factorial(n) / (factorial(r) * factorial(n-r))\n",
    "#     total_pairs += pairs\n",
    "\n",
    "# print(total_pairs)\n",
    "\n",
    "# not car order a-b same b-a\n",
    "def count_pairs(ent_num):\n",
    "    pairs_ent = ['PERSON-LOCATION', 'ORGANIZATION-LOCATION', \n",
    "                'LOCATION-LOCATION', 'ORGANIZATION-ORGANIZATION', \n",
    "                'PERSON-PERSON', \n",
    "                'PERSON-ORGANIZATION', 'LOCATION-ORGANIZATION']\n",
    "\n",
    "    count = 0\n",
    "    for pair in pairs_ent:\n",
    "        a, b = pair.split('-')\n",
    "        if a == b:\n",
    "            count += ent_num[a] * (ent_num[a] - 1) // 2\n",
    "        else:\n",
    "            count += ent_num[a] * ent_num[b]\n",
    "    return count\n",
    "\n",
    "ent_num ={'LOCATION': 6, 'ORGANIZATION': 4, 'PERSON': 8, 'total': 18} # 23351579\n",
    "ent_num = {'LOCATION': 135, 'ORGANIZATION': 11, 'PERSON': 91, 'total': 237}\n",
    "\n",
    "\n",
    "print()\n"
   ]
  },
  {
   "cell_type": "code",
   "execution_count": 20,
   "metadata": {},
   "outputs": [],
   "source": [
    "import json\n",
    "\n",
    "def write_append_data_to_txt_file(full_path_to_file, txt):\n",
    "    with open(full_path_to_file,'a') as out:\n",
    "        out.write(f'{txt}\\n')\n",
    "\n",
    "def clear_file(full_path_to_files_list):\n",
    "    for _file in full_path_to_files_list:\n",
    "      with open(_file,'w') as out:\n",
    "        out.write(f'')\n",
    "\n",
    "def dict_item_to_str(code, counts):\n",
    "  sum_ent = counts[\"total\"]\n",
    "  ent_LOCATION = counts[\"LOCATION\"]\n",
    "  ent_ORGANIZATION = counts[\"ORGANIZATION\"]\n",
    "  ent_PERSON = counts[\"PERSON\"]\n",
    "  _pairs = count_pairs(counts)\n",
    "  str_a_doc = f\"{code}: TOTAL: {sum_ent}\\t\\t\\t MAX_PAIRS(NOT_REAL): {_pairs}\\t\\t\\t LOCATION: {ent_LOCATION}\\t ORGANIZATION: {ent_ORGANIZATION}\\t PERSON: {ent_PERSON}\"\n",
    "  return str_a_doc\n",
    "\n",
    "from operator import itemgetter\n",
    "from collections import OrderedDict\n",
    "\n",
    "# x = {1: 2, 3: 4, 4: 3, 2: 1, 0: 0}\n",
    "# sorted_x = OrderedDict(sorted(x.items(), key=itemgetter(1)))"
   ]
  },
  {
   "cell_type": "code",
   "execution_count": 21,
   "metadata": {},
   "outputs": [
    {
     "name": "stdout",
     "output_type": "stream",
     "text": [
      "[('23355290', {'LOCATION': 135, 'ORGANIZATION': 11, 'PERSON': 91, 'total': 237}), ('23353976', {'LOCATION': 92, 'ORGANIZATION': 17, 'PERSON': 23, 'total': 132}), ('23354880', {'LOCATION': 109, 'ORGANIZATION': 10, 'PERSON': 5, 'total': 124}), ('23354055', {'LOCATION': 6, 'ORGANIZATION': 0, 'PERSON': 102, 'total': 108}), ('23352748', {'LOCATION': 17, 'ORGANIZATION': 41, 'PERSON': 41, 'total': 99}), ('23351430', {'LOCATION': 51, 'ORGANIZATION': 39, 'PERSON': 6, 'total': 96}), ('23353950', {'LOCATION': 74, 'ORGANIZATION': 9, 'PERSON': 12, 'total': 95}), ('23352753', {'LOCATION': 9, 'ORGANIZATION': 76, 'PERSON': 1, 'total': 86}), ('23352690', {'LOCATION': 56, 'ORGANIZATION': 26, 'PERSON': 3, 'total': 85}), ('23352777', {'LOCATION': 2, 'ORGANIZATION': 24, 'PERSON': 57, 'total': 83}), ('23352743', {'LOCATION': 72, 'ORGANIZATION': 2, 'PERSON': 8, 'total': 82}), ('23356858', {'LOCATION': 27, 'ORGANIZATION': 10, 'PERSON': 39, 'total': 76}), ('23351856', {'LOCATION': 46, 'ORGANIZATION': 2, 'PERSON': 27, 'total': 75}), ('23351778', {'LOCATION': 6, 'ORGANIZATION': 27, 'PERSON': 42, 'total': 75}), ('23351556', {'LOCATION': 10, 'ORGANIZATION': 58, 'PERSON': 7, 'total': 75}), ('23353931', {'LOCATION': 55, 'ORGANIZATION': 10, 'PERSON': 9, 'total': 74}), ('23354320', {'LOCATION': 61, 'ORGANIZATION': 4, 'PERSON': 8, 'total': 73}), ('23351316', {'LOCATION': 6, 'ORGANIZATION': 53, 'PERSON': 12, 'total': 71}), ('23354816', {'LOCATION': 53, 'ORGANIZATION': 0, 'PERSON': 17, 'total': 70}), ('23353785', {'LOCATION': 61, 'ORGANIZATION': 6, 'PERSON': 3, 'total': 70}), ('23356907', {'LOCATION': 59, 'ORGANIZATION': 4, 'PERSON': 5, 'total': 68}), ('23352856', {'LOCATION': 52, 'ORGANIZATION': 0, 'PERSON': 16, 'total': 68}), ('23351518', {'LOCATION': 52, 'ORGANIZATION': 11, 'PERSON': 4, 'total': 67}), ('23357752', {'LOCATION': 13, 'ORGANIZATION': 15, 'PERSON': 37, 'total': 65}), ('23351931', {'LOCATION': 0, 'ORGANIZATION': 34, 'PERSON': 30, 'total': 64}), ('23353954', {'LOCATION': 47, 'ORGANIZATION': 10, 'PERSON': 6, 'total': 63}), ('23352738', {'LOCATION': 53, 'ORGANIZATION': 8, 'PERSON': 1, 'total': 62}), ('23353878', {'LOCATION': 36, 'ORGANIZATION': 11, 'PERSON': 14, 'total': 61}), ('23351700', {'LOCATION': 28, 'ORGANIZATION': 20, 'PERSON': 9, 'total': 57}), ('23351515', {'LOCATION': 28, 'ORGANIZATION': 4, 'PERSON': 25, 'total': 57}), ('23352814', {'LOCATION': 46, 'ORGANIZATION': 4, 'PERSON': 6, 'total': 56}), ('23356771', {'LOCATION': 31, 'ORGANIZATION': 12, 'PERSON': 13, 'total': 56}), ('23351749', {'LOCATION': 17, 'ORGANIZATION': 6, 'PERSON': 32, 'total': 55}), ('23351937', {'LOCATION': 3, 'ORGANIZATION': 13, 'PERSON': 38, 'total': 54}), ('23355228', {'LOCATION': 0, 'ORGANIZATION': 27, 'PERSON': 27, 'total': 54}), ('23353867', {'LOCATION': 0, 'ORGANIZATION': 0, 'PERSON': 54, 'total': 54}), ('23351514', {'LOCATION': 2, 'ORGANIZATION': 0, 'PERSON': 51, 'total': 53}), ('23351672', {'LOCATION': 6, 'ORGANIZATION': 30, 'PERSON': 16, 'total': 52}), ('23354460', {'LOCATION': 42, 'ORGANIZATION': 5, 'PERSON': 5, 'total': 52}), ('23352671', {'LOCATION': 20, 'ORGANIZATION': 8, 'PERSON': 23, 'total': 51}), ('23352769', {'LOCATION': 6, 'ORGANIZATION': 39, 'PERSON': 6, 'total': 51}), ('23351990', {'LOCATION': 1, 'ORGANIZATION': 30, 'PERSON': 19, 'total': 50}), ('23354935', {'LOCATION': 24, 'ORGANIZATION': 6, 'PERSON': 20, 'total': 50}), ('23352857', {'LOCATION': 5, 'ORGANIZATION': 32, 'PERSON': 13, 'total': 50}), ('23351635', {'LOCATION': 4, 'ORGANIZATION': 33, 'PERSON': 12, 'total': 49}), ('23351307', {'LOCATION': 16, 'ORGANIZATION': 27, 'PERSON': 6, 'total': 49}), ('23354695', {'LOCATION': 17, 'ORGANIZATION': 1, 'PERSON': 30, 'total': 48}), ('23352739', {'LOCATION': 8, 'ORGANIZATION': 17, 'PERSON': 23, 'total': 48}), ('23351985', {'LOCATION': 0, 'ORGANIZATION': 11, 'PERSON': 36, 'total': 47}), ('23352781', {'LOCATION': 10, 'ORGANIZATION': 20, 'PERSON': 17, 'total': 47}), ('23352707', {'LOCATION': 17, 'ORGANIZATION': 13, 'PERSON': 17, 'total': 47}), ('23351164', {'LOCATION': 27, 'ORGANIZATION': 6, 'PERSON': 14, 'total': 47}), ('23354516', {'LOCATION': 1, 'ORGANIZATION': 3, 'PERSON': 42, 'total': 46}), ('23355001', {'LOCATION': 43, 'ORGANIZATION': 3, 'PERSON': 0, 'total': 46}), ('23353849', {'LOCATION': 25, 'ORGANIZATION': 19, 'PERSON': 2, 'total': 46}), ('23352719', {'LOCATION': 2, 'ORGANIZATION': 1, 'PERSON': 43, 'total': 46}), ('23354253', {'LOCATION': 34, 'ORGANIZATION': 7, 'PERSON': 5, 'total': 46}), ('23351933', {'LOCATION': 8, 'ORGANIZATION': 4, 'PERSON': 34, 'total': 46}), ('23351564', {'LOCATION': 10, 'ORGANIZATION': 13, 'PERSON': 23, 'total': 46}), ('23351887', {'LOCATION': 14, 'ORGANIZATION': 27, 'PERSON': 4, 'total': 45}), ('23351554', {'LOCATION': 6, 'ORGANIZATION': 12, 'PERSON': 27, 'total': 45}), ('23352750', {'LOCATION': 7, 'ORGANIZATION': 36, 'PERSON': 1, 'total': 44}), ('23351519', {'LOCATION': 11, 'ORGANIZATION': 1, 'PERSON': 32, 'total': 44}), ('23355557', {'LOCATION': 17, 'ORGANIZATION': 19, 'PERSON': 8, 'total': 44}), ('23351645', {'LOCATION': 21, 'ORGANIZATION': 16, 'PERSON': 7, 'total': 44}), ('23352696', {'LOCATION': 5, 'ORGANIZATION': 17, 'PERSON': 22, 'total': 44}), ('23356245', {'LOCATION': 24, 'ORGANIZATION': 20, 'PERSON': 0, 'total': 44}), ('23353901', {'LOCATION': 18, 'ORGANIZATION': 2, 'PERSON': 24, 'total': 44}), ('23352830', {'LOCATION': 26, 'ORGANIZATION': 15, 'PERSON': 2, 'total': 43}), ('23352730', {'LOCATION': 40, 'ORGANIZATION': 1, 'PERSON': 2, 'total': 43}), ('23352701', {'LOCATION': 7, 'ORGANIZATION': 19, 'PERSON': 17, 'total': 43}), ('23351978', {'LOCATION': 6, 'ORGANIZATION': 3, 'PERSON': 33, 'total': 42}), ('23354796', {'LOCATION': 19, 'ORGANIZATION': 6, 'PERSON': 17, 'total': 42}), ('23351992', {'LOCATION': 10, 'ORGANIZATION': 16, 'PERSON': 16, 'total': 42}), ('23351846', {'LOCATION': 14, 'ORGANIZATION': 3, 'PERSON': 25, 'total': 42}), ('23352824', {'LOCATION': 1, 'ORGANIZATION': 14, 'PERSON': 26, 'total': 41}), ('23351566', {'LOCATION': 4, 'ORGANIZATION': 36, 'PERSON': 1, 'total': 41}), ('23352887', {'LOCATION': 28, 'ORGANIZATION': 11, 'PERSON': 2, 'total': 41}), ('23351571', {'LOCATION': 12, 'ORGANIZATION': 1, 'PERSON': 28, 'total': 41}), ('23354285', {'LOCATION': 27, 'ORGANIZATION': 3, 'PERSON': 11, 'total': 41}), ('23353913', {'LOCATION': 22, 'ORGANIZATION': 9, 'PERSON': 10, 'total': 41}), ('23354400', {'LOCATION': 36, 'ORGANIZATION': 3, 'PERSON': 1, 'total': 40}), ('23356902', {'LOCATION': 10, 'ORGANIZATION': 24, 'PERSON': 6, 'total': 40}), ('23351611', {'LOCATION': 6, 'ORGANIZATION': 26, 'PERSON': 8, 'total': 40}), ('23352662', {'LOCATION': 6, 'ORGANIZATION': 13, 'PERSON': 21, 'total': 40}), ('23354538', {'LOCATION': 36, 'ORGANIZATION': 0, 'PERSON': 4, 'total': 40}), ('23351851', {'LOCATION': 10, 'ORGANIZATION': 13, 'PERSON': 16, 'total': 39}), ('23354881', {'LOCATION': 39, 'ORGANIZATION': 0, 'PERSON': 0, 'total': 39}), ('23354910', {'LOCATION': 10, 'ORGANIZATION': 6, 'PERSON': 23, 'total': 39}), ('23351647', {'LOCATION': 11, 'ORGANIZATION': 12, 'PERSON': 16, 'total': 39}), ('23351815', {'LOCATION': 12, 'ORGANIZATION': 21, 'PERSON': 6, 'total': 39}), ('23352883', {'LOCATION': 6, 'ORGANIZATION': 0, 'PERSON': 32, 'total': 38}), ('23352665', {'LOCATION': 3, 'ORGANIZATION': 21, 'PERSON': 14, 'total': 38}), ('23354318', {'LOCATION': 37, 'ORGANIZATION': 0, 'PERSON': 1, 'total': 38}), ('23351956', {'LOCATION': 9, 'ORGANIZATION': 14, 'PERSON': 15, 'total': 38}), ('23352804', {'LOCATION': 34, 'ORGANIZATION': 4, 'PERSON': 0, 'total': 38}), ('23354575', {'LOCATION': 24, 'ORGANIZATION': 12, 'PERSON': 1, 'total': 37}), ('23354474', {'LOCATION': 28, 'ORGANIZATION': 7, 'PERSON': 2, 'total': 37}), ('23351612', {'LOCATION': 2, 'ORGANIZATION': 9, 'PERSON': 26, 'total': 37}), ('23351848', {'LOCATION': 19, 'ORGANIZATION': 15, 'PERSON': 3, 'total': 37}), ('23352684', {'LOCATION': 13, 'ORGANIZATION': 14, 'PERSON': 9, 'total': 36}), ('23353760', {'LOCATION': 8, 'ORGANIZATION': 4, 'PERSON': 24, 'total': 36}), ('23354656', {'LOCATION': 14, 'ORGANIZATION': 7, 'PERSON': 15, 'total': 36}), ('23354619', {'LOCATION': 33, 'ORGANIZATION': 1, 'PERSON': 2, 'total': 36}), ('23355773', {'LOCATION': 19, 'ORGANIZATION': 1, 'PERSON': 16, 'total': 36}), ('23352849', {'LOCATION': 27, 'ORGANIZATION': 8, 'PERSON': 0, 'total': 35}), ('23356329', {'LOCATION': 18, 'ORGANIZATION': 9, 'PERSON': 8, 'total': 35}), ('23351837', {'LOCATION': 2, 'ORGANIZATION': 15, 'PERSON': 18, 'total': 35}), ('23354082', {'LOCATION': 28, 'ORGANIZATION': 2, 'PERSON': 4, 'total': 34}), ('23357329', {'LOCATION': 15, 'ORGANIZATION': 15, 'PERSON': 4, 'total': 34}), ('23351394', {'LOCATION': 18, 'ORGANIZATION': 13, 'PERSON': 3, 'total': 34}), ('23353861', {'LOCATION': 6, 'ORGANIZATION': 11, 'PERSON': 17, 'total': 34}), ('23351649', {'LOCATION': 5, 'ORGANIZATION': 0, 'PERSON': 29, 'total': 34}), ('23354627', {'LOCATION': 27, 'ORGANIZATION': 5, 'PERSON': 1, 'total': 33}), ('23354336', {'LOCATION': 30, 'ORGANIZATION': 3, 'PERSON': 0, 'total': 33}), ('23351959', {'LOCATION': 11, 'ORGANIZATION': 19, 'PERSON': 3, 'total': 33}), ('23351416', {'LOCATION': 6, 'ORGANIZATION': 1, 'PERSON': 26, 'total': 33}), ('23354751', {'LOCATION': 28, 'ORGANIZATION': 1, 'PERSON': 4, 'total': 33}), ('23352792', {'LOCATION': 4, 'ORGANIZATION': 16, 'PERSON': 12, 'total': 32}), ('23352702', {'LOCATION': 1, 'ORGANIZATION': 0, 'PERSON': 31, 'total': 32}), ('23352718', {'LOCATION': 14, 'ORGANIZATION': 13, 'PERSON': 5, 'total': 32}), ('23357809', {'LOCATION': 18, 'ORGANIZATION': 4, 'PERSON': 10, 'total': 32}), ('23353944', {'LOCATION': 0, 'ORGANIZATION': 0, 'PERSON': 32, 'total': 32}), ('23351425', {'LOCATION': 8, 'ORGANIZATION': 11, 'PERSON': 13, 'total': 32}), ('23352675', {'LOCATION': 29, 'ORGANIZATION': 1, 'PERSON': 2, 'total': 32}), ('23351988', {'LOCATION': 7, 'ORGANIZATION': 1, 'PERSON': 24, 'total': 32}), ('23352765', {'LOCATION': 7, 'ORGANIZATION': 19, 'PERSON': 6, 'total': 32}), ('23357489', {'LOCATION': 9, 'ORGANIZATION': 13, 'PERSON': 9, 'total': 31}), ('23351516', {'LOCATION': 9, 'ORGANIZATION': 0, 'PERSON': 22, 'total': 31}), ('23352751', {'LOCATION': 17, 'ORGANIZATION': 11, 'PERSON': 3, 'total': 31}), ('23354219', {'LOCATION': 10, 'ORGANIZATION': 9, 'PERSON': 12, 'total': 31}), ('23356093', {'LOCATION': 7, 'ORGANIZATION': 5, 'PERSON': 19, 'total': 31}), ('23351839', {'LOCATION': 5, 'ORGANIZATION': 22, 'PERSON': 4, 'total': 31}), ('23351578', {'LOCATION': 2, 'ORGANIZATION': 18, 'PERSON': 11, 'total': 31}), ('23351994', {'LOCATION': 2, 'ORGANIZATION': 28, 'PERSON': 1, 'total': 31}), ('23354126', {'LOCATION': 3, 'ORGANIZATION': 9, 'PERSON': 18, 'total': 30}), ('23351436', {'LOCATION': 21, 'ORGANIZATION': 8, 'PERSON': 1, 'total': 30}), ('23351511', {'LOCATION': 5, 'ORGANIZATION': 6, 'PERSON': 19, 'total': 30}), ('23357652', {'LOCATION': 7, 'ORGANIZATION': 15, 'PERSON': 8, 'total': 30}), ('23351569', {'LOCATION': 0, 'ORGANIZATION': 0, 'PERSON': 30, 'total': 30}), ('23351981', {'LOCATION': 4, 'ORGANIZATION': 5, 'PERSON': 21, 'total': 30}), ('23353872', {'LOCATION': 12, 'ORGANIZATION': 18, 'PERSON': 0, 'total': 30}), ('23352755', {'LOCATION': 27, 'ORGANIZATION': 0, 'PERSON': 3, 'total': 30}), ('23351427', {'LOCATION': 17, 'ORGANIZATION': 5, 'PERSON': 8, 'total': 30}), ('23353779', {'LOCATION': 4, 'ORGANIZATION': 7, 'PERSON': 19, 'total': 30}), ('23357028', {'LOCATION': 8, 'ORGANIZATION': 6, 'PERSON': 15, 'total': 29}), ('23351983', {'LOCATION': 3, 'ORGANIZATION': 11, 'PERSON': 15, 'total': 29}), ('23351970', {'LOCATION': 21, 'ORGANIZATION': 7, 'PERSON': 1, 'total': 29}), ('23354396', {'LOCATION': 20, 'ORGANIZATION': 6, 'PERSON': 3, 'total': 29}), ('23351493', {'LOCATION': 2, 'ORGANIZATION': 0, 'PERSON': 27, 'total': 29}), ('23351987', {'LOCATION': 2, 'ORGANIZATION': 17, 'PERSON': 10, 'total': 29}), ('23352746', {'LOCATION': 27, 'ORGANIZATION': 2, 'PERSON': 0, 'total': 29}), ('23353860', {'LOCATION': 8, 'ORGANIZATION': 8, 'PERSON': 13, 'total': 29}), ('23352659', {'LOCATION': 12, 'ORGANIZATION': 16, 'PERSON': 1, 'total': 29}), ('23352695', {'LOCATION': 2, 'ORGANIZATION': 14, 'PERSON': 13, 'total': 29}), ('23352894', {'LOCATION': 1, 'ORGANIZATION': 21, 'PERSON': 7, 'total': 29}), ('23351841', {'LOCATION': 2, 'ORGANIZATION': 11, 'PERSON': 16, 'total': 29}), ('23352878', {'LOCATION': 22, 'ORGANIZATION': 2, 'PERSON': 4, 'total': 28}), ('23352681', {'LOCATION': 1, 'ORGANIZATION': 0, 'PERSON': 27, 'total': 28}), ('23352706', {'LOCATION': 11, 'ORGANIZATION': 14, 'PERSON': 3, 'total': 28}), ('23352693', {'LOCATION': 26, 'ORGANIZATION': 2, 'PERSON': 0, 'total': 28}), ('23352825', {'LOCATION': 9, 'ORGANIZATION': 14, 'PERSON': 4, 'total': 27}), ('23357095', {'LOCATION': 14, 'ORGANIZATION': 11, 'PERSON': 2, 'total': 27}), ('23356798', {'LOCATION': 10, 'ORGANIZATION': 2, 'PERSON': 15, 'total': 27}), ('23351650', {'LOCATION': 2, 'ORGANIZATION': 0, 'PERSON': 24, 'total': 26}), ('23351834', {'LOCATION': 7, 'ORGANIZATION': 1, 'PERSON': 18, 'total': 26}), ('23354982', {'LOCATION': 3, 'ORGANIZATION': 4, 'PERSON': 19, 'total': 26}), ('23351260', {'LOCATION': 4, 'ORGANIZATION': 5, 'PERSON': 17, 'total': 26}), ('23352757', {'LOCATION': 2, 'ORGANIZATION': 2, 'PERSON': 22, 'total': 26}), ('23351982', {'LOCATION': 20, 'ORGANIZATION': 0, 'PERSON': 6, 'total': 26}), ('23353721', {'LOCATION': 9, 'ORGANIZATION': 9, 'PERSON': 8, 'total': 26}), ('23355061', {'LOCATION': 3, 'ORGANIZATION': 14, 'PERSON': 9, 'total': 26}), ('23351434', {'LOCATION': 5, 'ORGANIZATION': 17, 'PERSON': 4, 'total': 26}), ('23352845', {'LOCATION': 1, 'ORGANIZATION': 12, 'PERSON': 13, 'total': 26}), ('23351615', {'LOCATION': 1, 'ORGANIZATION': 1, 'PERSON': 24, 'total': 26}), ('23352683', {'LOCATION': 7, 'ORGANIZATION': 14, 'PERSON': 4, 'total': 25}), ('23356247', {'LOCATION': 15, 'ORGANIZATION': 7, 'PERSON': 3, 'total': 25}), ('23357240', {'LOCATION': 1, 'ORGANIZATION': 24, 'PERSON': 0, 'total': 25}), ('23351947', {'LOCATION': 11, 'ORGANIZATION': 6, 'PERSON': 8, 'total': 25}), ('23353973', {'LOCATION': 18, 'ORGANIZATION': 2, 'PERSON': 5, 'total': 25}), ('23355040', {'LOCATION': 6, 'ORGANIZATION': 2, 'PERSON': 17, 'total': 25}), ('23354739', {'LOCATION': 21, 'ORGANIZATION': 0, 'PERSON': 4, 'total': 25}), ('23356887', {'LOCATION': 7, 'ORGANIZATION': 5, 'PERSON': 13, 'total': 25}), ('23352752', {'LOCATION': 6, 'ORGANIZATION': 0, 'PERSON': 19, 'total': 25}), ('23354648', {'LOCATION': 15, 'ORGANIZATION': 6, 'PERSON': 4, 'total': 25}), ('23351960', {'LOCATION': 1, 'ORGANIZATION': 15, 'PERSON': 9, 'total': 25}), ('23352725', {'LOCATION': 1, 'ORGANIZATION': 22, 'PERSON': 2, 'total': 25}), ('23353863', {'LOCATION': 11, 'ORGANIZATION': 5, 'PERSON': 8, 'total': 24}), ('23358011', {'LOCATION': 2, 'ORGANIZATION': 11, 'PERSON': 11, 'total': 24}), ('23353874', {'LOCATION': 14, 'ORGANIZATION': 2, 'PERSON': 8, 'total': 24}), ('23351113', {'LOCATION': 2, 'ORGANIZATION': 8, 'PERSON': 14, 'total': 24}), ('23354045', {'LOCATION': 21, 'ORGANIZATION': 1, 'PERSON': 2, 'total': 24}), ('23351651', {'LOCATION': 10, 'ORGANIZATION': 4, 'PERSON': 9, 'total': 23}), ('23352676', {'LOCATION': 6, 'ORGANIZATION': 0, 'PERSON': 17, 'total': 23}), ('23353864', {'LOCATION': 1, 'ORGANIZATION': 1, 'PERSON': 21, 'total': 23}), ('23352844', {'LOCATION': 9, 'ORGANIZATION': 12, 'PERSON': 2, 'total': 23}), ('23351995', {'LOCATION': 19, 'ORGANIZATION': 2, 'PERSON': 2, 'total': 23}), ('23356715', {'LOCATION': 1, 'ORGANIZATION': 8, 'PERSON': 14, 'total': 23}), ('23351948', {'LOCATION': 2, 'ORGANIZATION': 3, 'PERSON': 17, 'total': 22}), ('23351965', {'LOCATION': 13, 'ORGANIZATION': 7, 'PERSON': 2, 'total': 22}), ('23352687', {'LOCATION': 6, 'ORGANIZATION': 5, 'PERSON': 11, 'total': 22}), ('23357308', {'LOCATION': 1, 'ORGANIZATION': 19, 'PERSON': 2, 'total': 22}), ('23356511', {'LOCATION': 1, 'ORGANIZATION': 12, 'PERSON': 9, 'total': 22}), ('23353846', {'LOCATION': 9, 'ORGANIZATION': 6, 'PERSON': 6, 'total': 21}), ('23354803', {'LOCATION': 11, 'ORGANIZATION': 7, 'PERSON': 3, 'total': 21}), ('23356918', {'LOCATION': 2, 'ORGANIZATION': 8, 'PERSON': 11, 'total': 21}), ('23352899', {'LOCATION': 0, 'ORGANIZATION': 0, 'PERSON': 21, 'total': 21}), ('23353975', {'LOCATION': 6, 'ORGANIZATION': 3, 'PERSON': 12, 'total': 21}), ('23352853', {'LOCATION': 0, 'ORGANIZATION': 0, 'PERSON': 21, 'total': 21}), ('23351607', {'LOCATION': 1, 'ORGANIZATION': 12, 'PERSON': 8, 'total': 21}), ('23352686', {'LOCATION': 14, 'ORGANIZATION': 6, 'PERSON': 1, 'total': 21}), ('23351632', {'LOCATION': 2, 'ORGANIZATION': 15, 'PERSON': 3, 'total': 20}), ('23352787', {'LOCATION': 15, 'ORGANIZATION': 4, 'PERSON': 1, 'total': 20}), ('23351391', {'LOCATION': 3, 'ORGANIZATION': 7, 'PERSON': 10, 'total': 20}), ('23355817', {'LOCATION': 4, 'ORGANIZATION': 7, 'PERSON': 9, 'total': 20}), ('23353857', {'LOCATION': 8, 'ORGANIZATION': 6, 'PERSON': 6, 'total': 20}), ('23351563', {'LOCATION': 4, 'ORGANIZATION': 3, 'PERSON': 13, 'total': 20}), ('23354879', {'LOCATION': 16, 'ORGANIZATION': 0, 'PERSON': 4, 'total': 20}), ('23352802', {'LOCATION': 13, 'ORGANIZATION': 6, 'PERSON': 1, 'total': 20}), ('23352677', {'LOCATION': 12, 'ORGANIZATION': 2, 'PERSON': 5, 'total': 19}), ('23351923', {'LOCATION': 19, 'ORGANIZATION': 0, 'PERSON': 0, 'total': 19}), ('23352774', {'LOCATION': 6, 'ORGANIZATION': 8, 'PERSON': 5, 'total': 19}), ('23351424', {'LOCATION': 13, 'ORGANIZATION': 3, 'PERSON': 3, 'total': 19}), ('23354738', {'LOCATION': 17, 'ORGANIZATION': 1, 'PERSON': 1, 'total': 19}), ('23356494', {'LOCATION': 6, 'ORGANIZATION': 3, 'PERSON': 10, 'total': 19}), ('23353787', {'LOCATION': 16, 'ORGANIZATION': 3, 'PERSON': 0, 'total': 19}), ('23351440', {'LOCATION': 4, 'ORGANIZATION': 3, 'PERSON': 12, 'total': 19}), ('23352872', {'LOCATION': 0, 'ORGANIZATION': 11, 'PERSON': 8, 'total': 19}), ('23354944', {'LOCATION': 6, 'ORGANIZATION': 1, 'PERSON': 12, 'total': 19}), ('23357765', {'LOCATION': 9, 'ORGANIZATION': 10, 'PERSON': 0, 'total': 19}), ('23351524', {'LOCATION': 16, 'ORGANIZATION': 2, 'PERSON': 1, 'total': 19}), ('23351522', {'LOCATION': 0, 'ORGANIZATION': 11, 'PERSON': 8, 'total': 19}), ('23355917', {'LOCATION': 12, 'ORGANIZATION': 5, 'PERSON': 2, 'total': 19}), ('23351576', {'LOCATION': 5, 'ORGANIZATION': 0, 'PERSON': 14, 'total': 19}), ('23351190', {'LOCATION': 14, 'ORGANIZATION': 1, 'PERSON': 4, 'total': 19}), ('23356295', {'LOCATION': 14, 'ORGANIZATION': 5, 'PERSON': 0, 'total': 19}), ('23351426', {'LOCATION': 8, 'ORGANIZATION': 1, 'PERSON': 10, 'total': 19}), ('23351963', {'LOCATION': 14, 'ORGANIZATION': 2, 'PERSON': 2, 'total': 18}), ('23366716', {'LOCATION': 14, 'ORGANIZATION': 0, 'PERSON': 4, 'total': 18}), ('23356638', {'LOCATION': 7, 'ORGANIZATION': 9, 'PERSON': 2, 'total': 18}), ('23356874', {'LOCATION': 8, 'ORGANIZATION': 1, 'PERSON': 9, 'total': 18}), ('23352821', {'LOCATION': 1, 'ORGANIZATION': 7, 'PERSON': 10, 'total': 18}), ('23351809', {'LOCATION': 4, 'ORGANIZATION': 0, 'PERSON': 14, 'total': 18}), ('23351579', {'LOCATION': 6, 'ORGANIZATION': 4, 'PERSON': 8, 'total': 18}), ('23357190', {'LOCATION': 1, 'ORGANIZATION': 16, 'PERSON': 0, 'total': 17}), ('23351574', {'LOCATION': 5, 'ORGANIZATION': 0, 'PERSON': 12, 'total': 17}), ('23351521', {'LOCATION': 0, 'ORGANIZATION': 14, 'PERSON': 3, 'total': 17}), ('23351946', {'LOCATION': 16, 'ORGANIZATION': 1, 'PERSON': 0, 'total': 17}), ('23353780', {'LOCATION': 14, 'ORGANIZATION': 1, 'PERSON': 2, 'total': 17}), ('23357151', {'LOCATION': 5, 'ORGANIZATION': 11, 'PERSON': 1, 'total': 17}), ('23352886', {'LOCATION': 5, 'ORGANIZATION': 1, 'PERSON': 11, 'total': 17}), ('23354920', {'LOCATION': 10, 'ORGANIZATION': 4, 'PERSON': 3, 'total': 17}), ('23354698', {'LOCATION': 15, 'ORGANIZATION': 0, 'PERSON': 2, 'total': 17}), ('23351719', {'LOCATION': 0, 'ORGANIZATION': 0, 'PERSON': 17, 'total': 17}), ('23354699', {'LOCATION': 12, 'ORGANIZATION': 1, 'PERSON': 4, 'total': 17}), ('23352715', {'LOCATION': 13, 'ORGANIZATION': 4, 'PERSON': 0, 'total': 17}), ('23354130', {'LOCATION': 11, 'ORGANIZATION': 6, 'PERSON': 0, 'total': 17}), ('23355064', {'LOCATION': 3, 'ORGANIZATION': 9, 'PERSON': 4, 'total': 16}), ('23352704', {'LOCATION': 2, 'ORGANIZATION': 0, 'PERSON': 14, 'total': 16}), ('23351581', {'LOCATION': 4, 'ORGANIZATION': 0, 'PERSON': 12, 'total': 16}), ('23351888', {'LOCATION': 10, 'ORGANIZATION': 3, 'PERSON': 3, 'total': 16}), ('23354166', {'LOCATION': 4, 'ORGANIZATION': 4, 'PERSON': 8, 'total': 16}), ('23353791', {'LOCATION': 7, 'ORGANIZATION': 0, 'PERSON': 9, 'total': 16}), ('23352778', {'LOCATION': 4, 'ORGANIZATION': 2, 'PERSON': 10, 'total': 16}), ('23351214', {'LOCATION': 3, 'ORGANIZATION': 7, 'PERSON': 6, 'total': 16}), ('23352822', {'LOCATION': 5, 'ORGANIZATION': 9, 'PERSON': 1, 'total': 15}), ('23355656', {'LOCATION': 2, 'ORGANIZATION': 6, 'PERSON': 7, 'total': 15}), ('23352876', {'LOCATION': 0, 'ORGANIZATION': 11, 'PERSON': 4, 'total': 15}), ('23356885', {'LOCATION': 10, 'ORGANIZATION': 2, 'PERSON': 3, 'total': 15}), ('23357443', {'LOCATION': 0, 'ORGANIZATION': 14, 'PERSON': 1, 'total': 15}), ('23351979', {'LOCATION': 3, 'ORGANIZATION': 7, 'PERSON': 5, 'total': 15}), ('23351952', {'LOCATION': 0, 'ORGANIZATION': 6, 'PERSON': 9, 'total': 15}), ('23355132', {'LOCATION': 4, 'ORGANIZATION': 1, 'PERSON': 10, 'total': 15}), ('23357344', {'LOCATION': 11, 'ORGANIZATION': 2, 'PERSON': 2, 'total': 15}), ('23351627', {'LOCATION': 5, 'ORGANIZATION': 1, 'PERSON': 9, 'total': 15}), ('23354103', {'LOCATION': 15, 'ORGANIZATION': 0, 'PERSON': 0, 'total': 15}), ('23352663', {'LOCATION': 1, 'ORGANIZATION': 6, 'PERSON': 8, 'total': 15}), ('23357167', {'LOCATION': 1, 'ORGANIZATION': 3, 'PERSON': 11, 'total': 15}), ('23354697', {'LOCATION': 7, 'ORGANIZATION': 4, 'PERSON': 4, 'total': 15}), ('23357097', {'LOCATION': 8, 'ORGANIZATION': 3, 'PERSON': 4, 'total': 15}), ('23351967', {'LOCATION': 15, 'ORGANIZATION': 0, 'PERSON': 0, 'total': 15}), ('23366740', {'LOCATION': 6, 'ORGANIZATION': 2, 'PERSON': 7, 'total': 15}), ('23354956', {'LOCATION': 8, 'ORGANIZATION': 6, 'PERSON': 1, 'total': 15}), ('23357120', {'LOCATION': 2, 'ORGANIZATION': 9, 'PERSON': 4, 'total': 15}), ('23352710', {'LOCATION': 4, 'ORGANIZATION': 0, 'PERSON': 10, 'total': 14}), ('23353830', {'LOCATION': 4, 'ORGANIZATION': 0, 'PERSON': 10, 'total': 14}), ('23352800', {'LOCATION': 13, 'ORGANIZATION': 0, 'PERSON': 1, 'total': 14}), ('23355434', {'LOCATION': 0, 'ORGANIZATION': 5, 'PERSON': 9, 'total': 14}), ('23355095', {'LOCATION': 7, 'ORGANIZATION': 4, 'PERSON': 3, 'total': 14}), ('23354310', {'LOCATION': 11, 'ORGANIZATION': 0, 'PERSON': 3, 'total': 14}), ('23352820', {'LOCATION': 5, 'ORGANIZATION': 0, 'PERSON': 9, 'total': 14}), ('23351494', {'LOCATION': 11, 'ORGANIZATION': 3, 'PERSON': 0, 'total': 14}), ('23352731', {'LOCATION': 3, 'ORGANIZATION': 2, 'PERSON': 9, 'total': 14}), ('23352656', {'LOCATION': 1, 'ORGANIZATION': 9, 'PERSON': 4, 'total': 14}), ('23355416', {'LOCATION': 6, 'ORGANIZATION': 6, 'PERSON': 2, 'total': 14}), ('23353904', {'LOCATION': 8, 'ORGANIZATION': 4, 'PERSON': 1, 'total': 13}), ('23351858', {'LOCATION': 9, 'ORGANIZATION': 1, 'PERSON': 3, 'total': 13}), ('23351431', {'LOCATION': 13, 'ORGANIZATION': 0, 'PERSON': 0, 'total': 13}), ('23351861', {'LOCATION': 7, 'ORGANIZATION': 1, 'PERSON': 5, 'total': 13}), ('23351561', {'LOCATION': 0, 'ORGANIZATION': 9, 'PERSON': 4, 'total': 13}), ('23351567', {'LOCATION': 1, 'ORGANIZATION': 11, 'PERSON': 1, 'total': 13}), ('23353786', {'LOCATION': 3, 'ORGANIZATION': 4, 'PERSON': 6, 'total': 13}), ('23351636', {'LOCATION': 7, 'ORGANIZATION': 2, 'PERSON': 4, 'total': 13}), ('23351432', {'LOCATION': 0, 'ORGANIZATION': 12, 'PERSON': 1, 'total': 13}), ('23351460', {'LOCATION': 1, 'ORGANIZATION': 12, 'PERSON': 0, 'total': 13}), ('23354265', {'LOCATION': 11, 'ORGANIZATION': 2, 'PERSON': 0, 'total': 13}), ('23351969', {'LOCATION': 5, 'ORGANIZATION': 7, 'PERSON': 1, 'total': 13}), ('23366722', {'LOCATION': 3, 'ORGANIZATION': 10, 'PERSON': 0, 'total': 13}), ('23351437', {'LOCATION': 6, 'ORGANIZATION': 0, 'PERSON': 6, 'total': 12}), ('23356961', {'LOCATION': 5, 'ORGANIZATION': 7, 'PERSON': 0, 'total': 12}), ('23351510', {'LOCATION': 10, 'ORGANIZATION': 2, 'PERSON': 0, 'total': 12}), ('23354288', {'LOCATION': 12, 'ORGANIZATION': 0, 'PERSON': 0, 'total': 12}), ('23353727', {'LOCATION': 0, 'ORGANIZATION': 0, 'PERSON': 12, 'total': 12}), ('23358261', {'LOCATION': 0, 'ORGANIZATION': 7, 'PERSON': 5, 'total': 12}), ('23352892', {'LOCATION': 5, 'ORGANIZATION': 1, 'PERSON': 6, 'total': 12}), ('23351542', {'LOCATION': 5, 'ORGANIZATION': 0, 'PERSON': 6, 'total': 11}), ('23357094', {'LOCATION': 0, 'ORGANIZATION': 9, 'PERSON': 2, 'total': 11}), ('23351939', {'LOCATION': 4, 'ORGANIZATION': 5, 'PERSON': 2, 'total': 11}), ('23351817', {'LOCATION': 3, 'ORGANIZATION': 0, 'PERSON': 8, 'total': 11}), ('23351422', {'LOCATION': 10, 'ORGANIZATION': 1, 'PERSON': 0, 'total': 11}), ('23355470', {'LOCATION': 1, 'ORGANIZATION': 2, 'PERSON': 8, 'total': 11}), ('23352807', {'LOCATION': 0, 'ORGANIZATION': 11, 'PERSON': 0, 'total': 11}), ('23351435', {'LOCATION': 1, 'ORGANIZATION': 0, 'PERSON': 10, 'total': 11}), ('23357336', {'LOCATION': 4, 'ORGANIZATION': 1, 'PERSON': 6, 'total': 11}), ('23351652', {'LOCATION': 8, 'ORGANIZATION': 1, 'PERSON': 2, 'total': 11}), ('23356221', {'LOCATION': 5, 'ORGANIZATION': 1, 'PERSON': 5, 'total': 11}), ('23355571', {'LOCATION': 6, 'ORGANIZATION': 4, 'PERSON': 1, 'total': 11}), ('23351582', {'LOCATION': 4, 'ORGANIZATION': 6, 'PERSON': 1, 'total': 11}), ('23351562', {'LOCATION': 6, 'ORGANIZATION': 4, 'PERSON': 1, 'total': 11}), ('23357394', {'LOCATION': 4, 'ORGANIZATION': 4, 'PERSON': 2, 'total': 10}), ('23356624', {'LOCATION': 0, 'ORGANIZATION': 10, 'PERSON': 0, 'total': 10}), ('23351941', {'LOCATION': 1, 'ORGANIZATION': 8, 'PERSON': 1, 'total': 10}), ('23354085', {'LOCATION': 3, 'ORGANIZATION': 3, 'PERSON': 4, 'total': 10}), ('23352896', {'LOCATION': 5, 'ORGANIZATION': 2, 'PERSON': 3, 'total': 10}), ('23352874', {'LOCATION': 4, 'ORGANIZATION': 4, 'PERSON': 2, 'total': 10}), ('23355935', {'LOCATION': 1, 'ORGANIZATION': 6, 'PERSON': 3, 'total': 10}), ('23351555', {'LOCATION': 6, 'ORGANIZATION': 1, 'PERSON': 3, 'total': 10}), ('23353834', {'LOCATION': 9, 'ORGANIZATION': 0, 'PERSON': 1, 'total': 10}), ('23351961', {'LOCATION': 0, 'ORGANIZATION': 9, 'PERSON': 1, 'total': 10}), ('23351814', {'LOCATION': 7, 'ORGANIZATION': 2, 'PERSON': 1, 'total': 10}), ('23358104', {'LOCATION': 0, 'ORGANIZATION': 0, 'PERSON': 10, 'total': 10}), ('23355858', {'LOCATION': 2, 'ORGANIZATION': 5, 'PERSON': 2, 'total': 9}), ('23356993', {'LOCATION': 0, 'ORGANIZATION': 7, 'PERSON': 2, 'total': 9}), ('23353838', {'LOCATION': 3, 'ORGANIZATION': 6, 'PERSON': 0, 'total': 9}), ('23355626', {'LOCATION': 0, 'ORGANIZATION': 2, 'PERSON': 7, 'total': 9}), ('23354953', {'LOCATION': 7, 'ORGANIZATION': 2, 'PERSON': 0, 'total': 9}), ('23357389', {'LOCATION': 2, 'ORGANIZATION': 4, 'PERSON': 3, 'total': 9}), ('23351864', {'LOCATION': 0, 'ORGANIZATION': 9, 'PERSON': 0, 'total': 9}), ('23357534', {'LOCATION': 1, 'ORGANIZATION': 1, 'PERSON': 7, 'total': 9}), ('23366765', {'LOCATION': 6, 'ORGANIZATION': 3, 'PERSON': 0, 'total': 9}), ('23358097', {'LOCATION': 9, 'ORGANIZATION': 0, 'PERSON': 0, 'total': 9}), ('23351974', {'LOCATION': 4, 'ORGANIZATION': 4, 'PERSON': 1, 'total': 9}), ('23351318', {'LOCATION': 4, 'ORGANIZATION': 5, 'PERSON': 0, 'total': 9}), ('23357266', {'LOCATION': 2, 'ORGANIZATION': 4, 'PERSON': 3, 'total': 9}), ('23357081', {'LOCATION': 5, 'ORGANIZATION': 2, 'PERSON': 1, 'total': 8}), ('23356193', {'LOCATION': 1, 'ORGANIZATION': 5, 'PERSON': 2, 'total': 8}), ('23357037', {'LOCATION': 1, 'ORGANIZATION': 6, 'PERSON': 1, 'total': 8}), ('23351950', {'LOCATION': 2, 'ORGANIZATION': 2, 'PERSON': 4, 'total': 8}), ('23357741', {'LOCATION': 3, 'ORGANIZATION': 4, 'PERSON': 1, 'total': 8}), ('23356604', {'LOCATION': 3, 'ORGANIZATION': 0, 'PERSON': 5, 'total': 8}), ('23354544', {'LOCATION': 6, 'ORGANIZATION': 1, 'PERSON': 0, 'total': 7}), ('23353967', {'LOCATION': 7, 'ORGANIZATION': 0, 'PERSON': 0, 'total': 7}), ('23352795', {'LOCATION': 0, 'ORGANIZATION': 6, 'PERSON': 1, 'total': 7}), ('23354202', {'LOCATION': 3, 'ORGANIZATION': 2, 'PERSON': 2, 'total': 7}), ('23351971', {'LOCATION': 6, 'ORGANIZATION': 0, 'PERSON': 1, 'total': 7}), ('23356960', {'LOCATION': 3, 'ORGANIZATION': 2, 'PERSON': 2, 'total': 7}), ('23351653', {'LOCATION': 4, 'ORGANIZATION': 2, 'PERSON': 1, 'total': 7}), ('23351831', {'LOCATION': 2, 'ORGANIZATION': 4, 'PERSON': 1, 'total': 7}), ('23357135', {'LOCATION': 0, 'ORGANIZATION': 1, 'PERSON': 6, 'total': 7}), ('23353842', {'LOCATION': 1, 'ORGANIZATION': 1, 'PERSON': 5, 'total': 7}), ('23356915', {'LOCATION': 1, 'ORGANIZATION': 6, 'PERSON': 0, 'total': 7}), ('23356724', {'LOCATION': 6, 'ORGANIZATION': 1, 'PERSON': 0, 'total': 7}), ('23354977', {'LOCATION': 3, 'ORGANIZATION': 2, 'PERSON': 1, 'total': 6}), ('23356933', {'LOCATION': 0, 'ORGANIZATION': 5, 'PERSON': 1, 'total': 6}), ('23356745', {'LOCATION': 4, 'ORGANIZATION': 0, 'PERSON': 2, 'total': 6}), ('23351642', {'LOCATION': 3, 'ORGANIZATION': 3, 'PERSON': 0, 'total': 6}), ('23351617', {'LOCATION': 0, 'ORGANIZATION': 0, 'PERSON': 6, 'total': 6}), ('23355254', {'LOCATION': 5, 'ORGANIZATION': 0, 'PERSON': 1, 'total': 6}), ('23354450', {'LOCATION': 0, 'ORGANIZATION': 0, 'PERSON': 6, 'total': 6}), ('23357471', {'LOCATION': 3, 'ORGANIZATION': 3, 'PERSON': 0, 'total': 6}), ('23356782', {'LOCATION': 3, 'ORGANIZATION': 1, 'PERSON': 2, 'total': 6}), ('23356315', {'LOCATION': 3, 'ORGANIZATION': 2, 'PERSON': 1, 'total': 6}), ('23354793', {'LOCATION': 3, 'ORGANIZATION': 3, 'PERSON': 0, 'total': 6}), ('23353825', {'LOCATION': 3, 'ORGANIZATION': 1, 'PERSON': 1, 'total': 5}), ('23357457', {'LOCATION': 3, 'ORGANIZATION': 0, 'PERSON': 2, 'total': 5}), ('23351595', {'LOCATION': 0, 'ORGANIZATION': 5, 'PERSON': 0, 'total': 5}), ('23353801', {'LOCATION': 3, 'ORGANIZATION': 1, 'PERSON': 1, 'total': 5}), ('23352806', {'LOCATION': 2, 'ORGANIZATION': 1, 'PERSON': 2, 'total': 5}), ('23353773', {'LOCATION': 4, 'ORGANIZATION': 0, 'PERSON': 1, 'total': 5}), ('23351820', {'LOCATION': 1, 'ORGANIZATION': 4, 'PERSON': 0, 'total': 5}), ('23352674', {'LOCATION': 0, 'ORGANIZATION': 0, 'PERSON': 5, 'total': 5}), ('23352880', {'LOCATION': 4, 'ORGANIZATION': 1, 'PERSON': 0, 'total': 5}), ('23352829', {'LOCATION': 0, 'ORGANIZATION': 3, 'PERSON': 2, 'total': 5}), ('23354916', {'LOCATION': 3, 'ORGANIZATION': 1, 'PERSON': 1, 'total': 5}), ('23352754', {'LOCATION': 0, 'ORGANIZATION': 0, 'PERSON': 5, 'total': 5}), ('23355988', {'LOCATION': 3, 'ORGANIZATION': 2, 'PERSON': 0, 'total': 5}), ('23352785', {'LOCATION': 4, 'ORGANIZATION': 0, 'PERSON': 1, 'total': 5}), ('23351489', {'LOCATION': 0, 'ORGANIZATION': 0, 'PERSON': 5, 'total': 5}), ('23352682', {'LOCATION': 0, 'ORGANIZATION': 4, 'PERSON': 0, 'total': 4}), ('23354946', {'LOCATION': 0, 'ORGANIZATION': 0, 'PERSON': 4, 'total': 4}), ('23353755', {'LOCATION': 3, 'ORGANIZATION': 0, 'PERSON': 1, 'total': 4}), ('23357288', {'LOCATION': 0, 'ORGANIZATION': 4, 'PERSON': 0, 'total': 4}), ('23356339', {'LOCATION': 0, 'ORGANIZATION': 3, 'PERSON': 1, 'total': 4}), ('23351849', {'LOCATION': 1, 'ORGANIZATION': 2, 'PERSON': 1, 'total': 4}), ('23353794', {'LOCATION': 2, 'ORGANIZATION': 1, 'PERSON': 0, 'total': 3}), ('23351438', {'LOCATION': 0, 'ORGANIZATION': 2, 'PERSON': 1, 'total': 3}), ('23357994', {'LOCATION': 0, 'ORGANIZATION': 3, 'PERSON': 0, 'total': 3}), ('23356992', {'LOCATION': 2, 'ORGANIZATION': 0, 'PERSON': 1, 'total': 3}), ('23366751', {'LOCATION': 1, 'ORGANIZATION': 2, 'PERSON': 0, 'total': 3}), ('23352717', {'LOCATION': 0, 'ORGANIZATION': 2, 'PERSON': 1, 'total': 3}), ('23357711', {'LOCATION': 3, 'ORGANIZATION': 0, 'PERSON': 0, 'total': 3}), ('23352831', {'LOCATION': 2, 'ORGANIZATION': 0, 'PERSON': 1, 'total': 3}), ('23351853', {'LOCATION': 0, 'ORGANIZATION': 1, 'PERSON': 2, 'total': 3}), ('23357396', {'LOCATION': 0, 'ORGANIZATION': 3, 'PERSON': 0, 'total': 3}), ('23356731', {'LOCATION': 2, 'ORGANIZATION': 0, 'PERSON': 1, 'total': 3}), ('23352900', {'LOCATION': 0, 'ORGANIZATION': 2, 'PERSON': 1, 'total': 3}), ('23354831', {'LOCATION': 1, 'ORGANIZATION': 1, 'PERSON': 1, 'total': 3}), ('23356765', {'LOCATION': 0, 'ORGANIZATION': 2, 'PERSON': 1, 'total': 3}), ('23357258', {'LOCATION': 0, 'ORGANIZATION': 3, 'PERSON': 0, 'total': 3}), ('23357851', {'LOCATION': 0, 'ORGANIZATION': 2, 'PERSON': 1, 'total': 3}), ('23354027', {'LOCATION': 1, 'ORGANIZATION': 2, 'PERSON': 0, 'total': 3}), ('23357062', {'LOCATION': 0, 'ORGANIZATION': 3, 'PERSON': 0, 'total': 3}), ('23356205', {'LOCATION': 0, 'ORGANIZATION': 1, 'PERSON': 2, 'total': 3}), ('23353723', {'LOCATION': 3, 'ORGANIZATION': 0, 'PERSON': 0, 'total': 3}), ('23354545', {'LOCATION': 2, 'ORGANIZATION': 0, 'PERSON': 0, 'total': 2}), ('23353995', {'LOCATION': 1, 'ORGANIZATION': 0, 'PERSON': 1, 'total': 2}), ('23354912', {'LOCATION': 0, 'ORGANIZATION': 1, 'PERSON': 1, 'total': 2}), ('23356767', {'LOCATION': 0, 'ORGANIZATION': 1, 'PERSON': 1, 'total': 2}), ('23351949', {'LOCATION': 0, 'ORGANIZATION': 1, 'PERSON': 1, 'total': 2}), ('23351385', {'LOCATION': 0, 'ORGANIZATION': 1, 'PERSON': 1, 'total': 2}), ('23353841', {'LOCATION': 0, 'ORGANIZATION': 0, 'PERSON': 2, 'total': 2}), ('23351543', {'LOCATION': 1, 'ORGANIZATION': 1, 'PERSON': 0, 'total': 2}), ('23356716', {'LOCATION': 0, 'ORGANIZATION': 2, 'PERSON': 0, 'total': 2}), ('23353945', {'LOCATION': 0, 'ORGANIZATION': 2, 'PERSON': 0, 'total': 2}), ('23356299', {'LOCATION': 1, 'ORGANIZATION': 1, 'PERSON': 0, 'total': 2}), ('23354718', {'LOCATION': 0, 'ORGANIZATION': 1, 'PERSON': 1, 'total': 2}), ('23353996', {'LOCATION': 0, 'ORGANIZATION': 2, 'PERSON': 0, 'total': 2}), ('23357937', {'LOCATION': 0, 'ORGANIZATION': 2, 'PERSON': 0, 'total': 2}), ('23356314', {'LOCATION': 2, 'ORGANIZATION': 0, 'PERSON': 0, 'total': 2}), ('23354089', {'LOCATION': 1, 'ORGANIZATION': 1, 'PERSON': 0, 'total': 2}), ('23352871', {'LOCATION': 0, 'ORGANIZATION': 0, 'PERSON': 1, 'total': 1}), ('23352870', {'LOCATION': 0, 'ORGANIZATION': 0, 'PERSON': 1, 'total': 1}), ('23353732', {'LOCATION': 0, 'ORGANIZATION': 0, 'PERSON': 1, 'total': 1}), ('23352720', {'LOCATION': 0, 'ORGANIZATION': 0, 'PERSON': 1, 'total': 1}), ('23354244', {'LOCATION': 0, 'ORGANIZATION': 0, 'PERSON': 1, 'total': 1}), ('23357263', {'LOCATION': 0, 'ORGANIZATION': 1, 'PERSON': 0, 'total': 1}), ('23351852', {'LOCATION': 0, 'ORGANIZATION': 1, 'PERSON': 0, 'total': 1}), ('23353799', {'LOCATION': 0, 'ORGANIZATION': 0, 'PERSON': 1, 'total': 1}), ('23357550', {'LOCATION': 0, 'ORGANIZATION': 1, 'PERSON': 0, 'total': 1}), ('23354717', {'LOCATION': 0, 'ORGANIZATION': 0, 'PERSON': 1, 'total': 1}), ('23357309', {'LOCATION': 0, 'ORGANIZATION': 1, 'PERSON': 0, 'total': 1}), ('23352708', {'LOCATION': 0, 'ORGANIZATION': 0, 'PERSON': 1, 'total': 1}), ('23354442', {'LOCATION': 0, 'ORGANIZATION': 0, 'PERSON': 1, 'total': 1}), ('23354028', {'LOCATION': 1, 'ORGANIZATION': 0, 'PERSON': 0, 'total': 1}), ('23351393', {'LOCATION': 0, 'ORGANIZATION': 1, 'PERSON': 0, 'total': 1}), ('23352713', {'LOCATION': 0, 'ORGANIZATION': 0, 'PERSON': 1, 'total': 1}), ('23351392', {'LOCATION': 1, 'ORGANIZATION': 0, 'PERSON': 0, 'total': 1}), ('23354042', {'LOCATION': 0, 'ORGANIZATION': 0, 'PERSON': 1, 'total': 1}), ('23351225', {'LOCATION': 0, 'ORGANIZATION': 1, 'PERSON': 0, 'total': 1}), ('23354536', {'LOCATION': 0, 'ORGANIZATION': 0, 'PERSON': 1, 'total': 1}), ('23357544', {'LOCATION': 1, 'ORGANIZATION': 0, 'PERSON': 0, 'total': 1}), ('23357341', {'LOCATION': 0, 'ORGANIZATION': 0, 'PERSON': 1, 'total': 1}), ('23355250', {'LOCATION': 0, 'ORGANIZATION': 0, 'PERSON': 0, 'total': 0}), ('23354010', {'LOCATION': 0, 'ORGANIZATION': 0, 'PERSON': 0, 'total': 0})]\n"
     ]
    }
   ],
   "source": [
    "import os\n",
    "\n",
    "def count_lines_with_words(folder_path, word_list, out_put_file):\n",
    "    clear_file([out_put_file])\n",
    "    LIST_code_order_by_number_ent = []\n",
    "    DICT_code_order_by_number_ent = {}\n",
    "    for file_name in os.listdir(folder_path):\n",
    "        # if not file_name.endswith('.txt'):\n",
    "        #     continue\n",
    "        file_path = os.path.join(folder_path, file_name)\n",
    "        with open(file_path, 'r') as f:\n",
    "            lines = f.readlines()\n",
    "            counts = {word: 0 for word in word_list}\n",
    "            for line in lines:\n",
    "                for word in word_list:\n",
    "                    if word in line:\n",
    "                        counts[word] += 1\n",
    "            code = file_name.split('.')[0]\n",
    "        counts[\"total\"] = sum(counts.values())\n",
    "        DICT_code_order_by_number_ent[code] = counts\n",
    "\n",
    "    # LIST_code_order_by_number_ent = OrderedDict(sorted(DICT_code_order_by_number_ent.items(), key=lambda x: x[1]['total'] ))\n",
    "    LIST_code_order_by_number_ent = sorted(DICT_code_order_by_number_ent.items(), key=lambda x: x[1]['total'], reverse=True )\n",
    "    print(LIST_code_order_by_number_ent)\n",
    "    for doc in LIST_code_order_by_number_ent:\n",
    "        txt = dict_item_to_str(doc[0], doc[1])\n",
    "        write_append_data_to_txt_file(out_put_file, txt)\n",
    "        \n",
    "\n",
    "# newIndex = sorted(dictOfDicts, key=lambda x: dictOfDicts[x]['id'])\n",
    "\n",
    "\n",
    "    #     str_a_doc\n",
    "    # write_append_data_to_txt_file(out_put_file, str_a_doc)\n",
    "                \n",
    "\n",
    "folder_path = \\\n",
    "    \"/Users/n2t2k/Documents/Studying/Master/Thesis/InProgress/Coding/ORIGIN_RUN_ALL_edge-oriented-graph-master-studying/dataProcessingOfficialCleaned/dev_processed/split_sentence_underthesea/docs/common_info_embedd_files/split_passage_for_final_processed\"\n",
    "out_put_file = \\\n",
    "    \"/Users/n2t2k/Documents/Studying/Master/Thesis/InProgress/Coding/ORIGIN_RUN_ALL_edge-oriented-graph-master-studying/dataProcessingOfficialCleaned/dev_processed/split_sentence_underthesea/ignore_docs/script_to_view_statics_big_docs/statistic_number_ent\"\n",
    "\n",
    "word_list = ['LOCATION', 'ORGANIZATION', 'PERSON']\n",
    "\n",
    "count_lines_with_words(folder_path, word_list, out_put_file)\n"
   ]
  },
  {
   "attachments": {},
   "cell_type": "markdown",
   "metadata": {},
   "source": []
  },
  {
   "cell_type": "code",
   "execution_count": 22,
   "metadata": {},
   "outputs": [],
   "source": [
    "# REAL COUNT FROM FINAL FILE vlsp.data"
   ]
  },
  {
   "attachments": {},
   "cell_type": "markdown",
   "metadata": {},
   "source": [
    "\"\"\"\n",
    "\n",
    "write type python function to read a file with, then count number of word \"NON-CROSS\" in a line then \n",
    "save result to a files for all line with format: code: count number, if count greater than 900, save only the code to a other new file, with code is the first word of line when split line by a tab \\t char 2 lines sample in file like this below, \n",
    "\n",
    "23352880\tcấp_nước miễn_phí tại đây .\t1:LOCATED:2\tL2R\tNON-CROSS\t41-47\t47-48\t2335288000054\tTrung_tâm cấp_nước Khu kinh_tế Vũng Áng\tORGANIZATION\t41\t47\t2\t2335288000010\tHà_Tĩnh|Hà_Tĩnh|Hà_Tĩnh\tLOCATION\t6:24:47\t7:25:48\t0:0:2\t1:PART – WHOLE:2\tL2R\tNON-CROSS\t20-22\t23-25\t2335288000028\tthị_xã Kỳ_Anh\tLOCATION\t20\t22\t0\t2335288000033\ttỉnh Hà_Tĩnh\tLOCATION\t23\t25\t0\t1:NR:2\tL2R\t\n",
    "23351974\tCon_Cuông tuyên_dương 34.\t1:AFFILIATION:2\tL2R\tNON-CROSS\t246-248\t260-261\t2335197400363\ttỉnh Nghệ_An\tORGANIZATION\t246\t248\t10\t2335197400382\thuyện_Con_Cuông|huyện_Con_Cuông\tLOCATION\t75:260\t76:261\t2:10\t1:NR:2\tL2R\tNON-CROSS\t0-1\t9-10\t2335197400001\tCon_Cuông\tLOCATION\t0\t1\t0\t2335197400014\tỦy_ban_MTTQ_huyện_Con_Cuông|Ủy_ban_MTTQ_huyện_Con_Cuông\tORGANIZATION\t9:26\t10:27\t0:1\t1:NR:2\tL2R\t\n",
    "\n",
    "\n",
    "\"\"\""
   ]
  },
  {
   "cell_type": "code",
   "execution_count": 23,
   "metadata": {},
   "outputs": [],
   "source": [
    "# def count_non_cross_words(input_file, output_file):\n",
    "#     counts = {}\n",
    "#     with open(input_file, 'r') as f:\n",
    "#         for line in f:\n",
    "#             tokens = line.strip().split('\\t')\n",
    "#             code = tokens[0]\n",
    "#             non_cross_count = sum(1 for token in tokens if token == 'NON-CROSS')\n",
    "#             counts[code] = counts.get(code, 0) + non_cross_count\n",
    "\n",
    "#     # Sort the counts by descending order and write to the output file\n",
    "#     with open(output_file, 'w') as f:\n",
    "#         for code, count in sorted(counts.items(), key=lambda x: x[1], reverse=True):\n",
    "#             f.write(f\"{code}: {count}\\n\")\n",
    "\n",
    "\n",
    "\n",
    "# filename = \"/Users/n2t2k/Documents/Studying/Master/Thesis/InProgress/Coding/ORIGIN_RUN_ALL_edge-oriented-graph-master-studying/dataProcessingOfficialCleaned/dev_processed/split_sentence_underthesea/docs/common_info_embedd_files/vlsp.data\"\n",
    "# output_file = \"/Users/n2t2k/Documents/Studying/Master/Thesis/InProgress/Coding/ORIGIN_RUN_ALL_edge-oriented-graph-master-studying/dataProcessingOfficialCleaned/dev_processed/split_sentence_underthesea/ignore_docs/script_to_view_statics_big_docs/REAL_statistic_PAIR\"\n",
    "# count_non_cross_words(filename, output_file)\n"
   ]
  },
  {
   "cell_type": "code",
   "execution_count": 24,
   "metadata": {},
   "outputs": [],
   "source": [
    "MAX_PAIR_ALLOW=500\n",
    "\n",
    "def count_non_cross(input_file, output_txt, high_count_codes_txt, accept_doc_NOT_big):\n",
    "    # Open the input file for reading\n",
    "    with open(input_file, 'r', encoding='utf-8') as f:\n",
    "        lines = f.readlines()\n",
    "\n",
    "    # Initialize the dictionary to hold the counts for each code\n",
    "    code_counts = {}\n",
    "\n",
    "    # Loop over each line and count the number of occurrences of \"NON-CROSS\"\n",
    "    for line in lines:\n",
    "        fields = line.strip().split('\\t')\n",
    "        code = fields[0]\n",
    "        count = fields[1:].count('NON-CROSS')\n",
    "        code_counts[code] = count\n",
    "\n",
    "    # Sort the dictionary by count in descending order\n",
    "    sorted_counts = sorted(code_counts.items(), key=lambda x: x[1], reverse=True)\n",
    "\n",
    "    # Open the output file for writing\n",
    "    with open(output_txt, 'w', encoding='utf-8') as f_out, \\\n",
    "         open(high_count_codes_txt, 'w', encoding='utf-8') as f_high_count,\\\n",
    "         open(accept_doc_NOT_big, 'w', encoding='utf-8') as accept_doc:\n",
    "        # Write each code and count to the output file in the format \"code: count number\"\n",
    "        for code, count in sorted_counts:\n",
    "            f_out.write(f'{code}: {count}\\n')\n",
    "            # Write the code to the high count codes file if the count is greater than 900\n",
    "            if count > MAX_PAIR_ALLOW:\n",
    "                f_high_count.write(f'{code}\\n')\n",
    "            else:\n",
    "                accept_doc.write(f'{code}\\n')\n",
    "\n",
    "\n",
    "\n",
    "\n",
    "\n",
    "filename = \"/Users/n2t2k/Documents/Studying/Master/Thesis/InProgress/Coding/ORIGIN_RUN_ALL_edge-oriented-graph-master-studying/dataProcessingOfficialCleaned/dev_processed/split_sentence_underthesea/docs/common_info_embedd_files/vlsp.data\"\n",
    "output_file = \"/Users/n2t2k/Documents/Studying/Master/Thesis/InProgress/Coding/ORIGIN_RUN_ALL_edge-oriented-graph-master-studying/dataProcessingOfficialCleaned/dev_processed/split_sentence_underthesea/ignore_docs/script_to_view_statics_big_docs/REAL_statistic_PAIR\"\n",
    "high_count_codes_txt = \"/Users/n2t2k/Documents/Studying/Master/Thesis/InProgress/Coding/ORIGIN_RUN_ALL_edge-oriented-graph-master-studying/dataProcessingOfficialCleaned/dev_processed/split_sentence_underthesea/ignore_docs/ignore_big_docs\"\n",
    "accept_doc_NOT_big_path = \"/Users/n2t2k/Documents/Studying/Master/Thesis/InProgress/Coding/ORIGIN_RUN_ALL_edge-oriented-graph-master-studying/dataProcessingOfficialCleaned/dev_processed/split_sentence_underthesea/ignore_docs/accept_doc_NOT_big\"\n",
    "count_non_cross(filename, output_file, high_count_codes_txt, accept_doc_NOT_big_path)\n"
   ]
  },
  {
   "attachments": {},
   "cell_type": "markdown",
   "metadata": {},
   "source": []
  }
 ],
 "metadata": {
  "kernelspec": {
   "display_name": "reEnv3.7.13",
   "language": "python",
   "name": "python3"
  },
  "language_info": {
   "codemirror_mode": {
    "name": "ipython",
    "version": 3
   },
   "file_extension": ".py",
   "mimetype": "text/x-python",
   "name": "python",
   "nbconvert_exporter": "python",
   "pygments_lexer": "ipython3",
   "version": "3.7.13"
  },
  "orig_nbformat": 4
 },
 "nbformat": 4,
 "nbformat_minor": 2
}
