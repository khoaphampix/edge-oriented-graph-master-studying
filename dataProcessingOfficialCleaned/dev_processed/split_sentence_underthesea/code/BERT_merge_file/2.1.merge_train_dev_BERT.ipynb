{
  "cells": [
    {
      "cell_type": "code",
      "execution_count": null,
      "metadata": {},
      "outputs": [],
      "source": [
        "def process_files(file1_path, file2_path, output_path):\n",
        "    # Read the first file and store the first elements of each line\n",
        "    list_words = []\n",
        "    with open(file1_path, 'r') as file1:\n",
        "        for line in file1:\n",
        "            words = line.split()\n",
        "            if len(words) > 0:\n",
        "                list_words.append(words[0])\n",
        "    \n",
        "    # Process the first file\n",
        "    with open(file1_path, 'r') as file1, open(output_path, 'w') as output_file:\n",
        "        for line in file1:\n",
        "            words = line.split()\n",
        "            if len(words) > 32:\n",
        "                new_line = ' '.join(words[:-32])  # Remove the last 32 words\n",
        "                output_file.write(new_line + '\\n')\n",
        "    \n",
        "    # Process the second file\n",
        "    with open(file2_path, 'r') as file2, open(output_path, 'a') as output_file:\n",
        "        for line in file2:\n",
        "            words = line.split()\n",
        "            if len(words) > 0 and words[0] not in list_words:\n",
        "                output_file.write(line)\n",
        "\n",
        "file1_path = \\\n",
        "file2_path = \\\n",
        "output_path = \\\n",
        "\"/Users/n2t2k/Documents/Studying/Master/Thesis/InProgress/Coding/ORIGIN_RUN_ALL_edge-oriented-graph-master-studying/dataProcessingOfficialCleaned/dev_processed/split_sentence_underthesea/code/BERT_merge_file/data/embedded_out\"\n",
        "process_files(file1_path, file2_path, output_path)\n",
        "\n"
      ]
    }
  ],
  "metadata": {
    "accelerator": "GPU",
    "colab": {
      "provenance": []
    },
    "kernelspec": {
      "display_name": "Python 3",
      "name": "python3"
    },
    "language_info": {
      "codemirror_mode": {
        "name": "ipython",
        "version": 3
      },
      "file_extension": ".py",
      "mimetype": "text/x-python",
      "name": "python",
      "nbconvert_exporter": "python",
      "pygments_lexer": "ipython3",
      "version": "3.7.13"
    }
  },
  "nbformat": 4,
  "nbformat_minor": 0
}
