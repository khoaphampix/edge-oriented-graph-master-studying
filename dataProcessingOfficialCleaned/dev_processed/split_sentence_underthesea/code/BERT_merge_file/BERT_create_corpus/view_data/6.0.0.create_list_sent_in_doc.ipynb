{
 "cells": [
  {
   "attachments": {},
   "cell_type": "markdown",
   "metadata": {},
   "source": []
  },
  {
   "cell_type": "code",
   "execution_count": 1,
   "metadata": {},
   "outputs": [],
   "source": [
    "import json\n",
    "create_ent_sent_json_file = False\n",
    "\n",
    "def write_append_data_to_txt_file(full_path_to_file, txt):\n",
    "    with open(full_path_to_file,'a') as out:\n",
    "        out.write(f'{txt}\\n')\n",
    "        # out.write(f'{txt}')s\n",
    "        \n",
    "def clear_file(full_path_to_files_list):\n",
    "    for _file in full_path_to_files_list:\n",
    "      with open(_file,'w') as out:\n",
    "        out.write(f'')"
   ]
  },
  {
   "cell_type": "code",
   "execution_count": 2,
   "metadata": {},
   "outputs": [
    {
     "name": "stdout",
     "output_type": "stream",
     "text": [
      "0\n"
     ]
    }
   ],
   "source": [
    "import os\n",
    "\n",
    "input_folder_processed = \\\n",
    "    \"/Users/n2t2k/Documents/Studying/Master/Thesis/InProgress/Coding/ORIGIN_RUN_ALL_edge-oriented-graph-master-studying/dataProcessingOfficialCleaned/dev_processed/split_sentence_underthesea/docs/common_info_embedd_files/split_passage_for_final_processed\"\n",
    "\n",
    "out_all_sent = \\\n",
    "    \"/Users/n2t2k/Documents/Studying/Master/Thesis/InProgress/Coding/ORIGIN_RUN_ALL_edge-oriented-graph-master-studying/dataProcessingOfficialCleaned/dev_processed/split_sentence_underthesea/code/BERT_merge_file/BERT_create_corpus/view_data/data/all_sent_to_wb.txt\"\n",
    "\n",
    "clear_file([out_all_sent])\n",
    "def create_corpus_set(input_folder, output_file):\n",
    "    corpus_set = set()\n",
    "\n",
    "    for file_name in os.listdir(input_folder):\n",
    "        # print(file_name[-40:])\n",
    "        with open(os.path.join(input_folder, file_name), 'r') as in_file:\n",
    "            lines = in_file.readlines()\n",
    "            # print(\">>\",lines[1][11:])\n",
    "            split_line = lines[1][11:].strip().split('.|')\n",
    "            for sent in split_line:\n",
    "                if sent[-1] == \".\":\n",
    "                    sent = sent[:-1]\n",
    "                write_append_data_to_txt_file(output_file, sent)\n",
    "\n",
    "    print(len(corpus_set))\n",
    "create_corpus_set(input_folder_processed, out_all_sent)\n"
   ]
  }
 ],
 "metadata": {
  "kernelspec": {
   "display_name": "reEnv3.7.13",
   "language": "python",
   "name": "python3"
  },
  "language_info": {
   "codemirror_mode": {
    "name": "ipython",
    "version": 3
   },
   "file_extension": ".py",
   "mimetype": "text/x-python",
   "name": "python",
   "nbconvert_exporter": "python",
   "pygments_lexer": "ipython3",
   "version": "3.7.13"
  },
  "orig_nbformat": 4
 },
 "nbformat": 4,
 "nbformat_minor": 2
}
