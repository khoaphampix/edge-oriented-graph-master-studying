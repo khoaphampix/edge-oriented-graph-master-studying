{
 "cells": [
  {
   "attachments": {},
   "cell_type": "markdown",
   "metadata": {},
   "source": []
  },
  {
   "cell_type": "code",
   "execution_count": 1,
   "metadata": {},
   "outputs": [
    {
     "name": "stdout",
     "output_type": "stream",
     "text": [
      "18419\n"
     ]
    }
   ],
   "source": [
    "import os\n",
    "\n",
    "input_folder_processed = \\\n",
    "    \"/Users/n2t2k/Documents/Studying/Master/Thesis/InProgress/Coding/ORIGIN_RUN_ALL_edge-oriented-graph-master-studying/dataProcessingOfficialCleaned/dev_processed/split_sentence_underthesea/docs/common_info_embedd_files/split_passage_for_final_processed\"\n",
    "\n",
    "out_all_sent_processed_files = \\\n",
    "    \"/Users/n2t2k/Documents/Studying/Master/Thesis/InProgress/Coding/ORIGIN_RUN_ALL_edge-oriented-graph-master-studying/dataProcessingOfficialCleaned/dev_processed/split_sentence_underthesea/code/BERT_merge_file/BERT_create_corpus/view_data/data/corpus.txt\"\n",
    "\n",
    "def create_corpus_set(input_folder, output_file):\n",
    "    corpus_set = set()\n",
    "\n",
    "    for file_name in os.listdir(input_folder):\n",
    "        # print(file_name[-40:])\n",
    "        with open(os.path.join(input_folder, file_name), 'r') as in_file:\n",
    "            lines = in_file.readlines()\n",
    "            # print(\">>\",lines[1][11:])\n",
    "            split_line = lines[1][11:].strip().split('.|')\n",
    "            for sent in split_line:\n",
    "                list_word_in_sent = set(sent.split(\" \"))\n",
    "                corpus_set = corpus_set.union(list_word_in_sent)\n",
    "\n",
    "    set_string = '\\t'.join(str(element) for element in corpus_set)\n",
    "\n",
    "    # Write the set string to a file\n",
    "    with open(output_file, 'w') as file:\n",
    "        file.write(set_string)\n",
    "\n",
    "    print(len(corpus_set))\n",
    "create_corpus_set(input_folder_processed, out_all_sent_processed_files)\n"
   ]
  },
  {
   "cell_type": "code",
   "execution_count": null,
   "metadata": {},
   "outputs": [],
   "source": []
  }
 ],
 "metadata": {
  "kernelspec": {
   "display_name": "reEnv3.7.13",
   "language": "python",
   "name": "python3"
  },
  "language_info": {
   "codemirror_mode": {
    "name": "ipython",
    "version": 3
   },
   "file_extension": ".py",
   "mimetype": "text/x-python",
   "name": "python",
   "nbconvert_exporter": "python",
   "pygments_lexer": "ipython3",
   "version": "3.7.13"
  },
  "orig_nbformat": 4
 },
 "nbformat": 4,
 "nbformat_minor": 2
}
