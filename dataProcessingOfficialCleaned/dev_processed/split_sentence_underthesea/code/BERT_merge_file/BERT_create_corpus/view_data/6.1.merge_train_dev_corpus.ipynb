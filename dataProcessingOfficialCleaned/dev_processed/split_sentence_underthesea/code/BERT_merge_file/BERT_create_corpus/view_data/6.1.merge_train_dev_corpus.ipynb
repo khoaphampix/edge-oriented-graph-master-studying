{
 "cells": [
  {
   "attachments": {},
   "cell_type": "markdown",
   "metadata": {},
   "source": []
  },
  {
   "cell_type": "code",
   "execution_count": null,
   "metadata": {},
   "outputs": [],
   "source": [
    "import os\n",
    "\n",
    "folder = \"/Users/n2t2k/Documents/Studying/Master/Thesis/InProgress/Coding/ORIGIN_RUN_ALL\"+\"_edge-oriented-graph-master-studying/dataProcessingOfficialCleaned/dev_processed/split_sentence_underthesea/code/BERT_merge_file/BERT_create_corpus/view_data/data\"\n",
    "input_1= f\"{folder}/total_corpus.txt\"\n",
    "\n",
    "input_2 = \\\n",
    "    \"/Users/n2t2k/Documents/Studying/Master/Thesis/InProgress/edge-oriented-graph-master-\"+\"WORKING/dataProcessingOfficial/dev_processed/split_sentence_underthesea/code/BERT_merge_file/BERT_create_corpus/view_data/data/corpus.txt\"\n",
    "\n",
    "out_all= f\"{folder}/total_corpus.txt\"\n",
    "\n",
    "total_corpus_file = \"/Users/n2t2k/Documents/Studying/Master/Thesis/InProgress/Coding/ORIGIN_RUN_ALL_edge-oriented-graph-master-studying/dataProcessingOfficialCleaned/dev_processed/split_sentence_underthesea/code/BERT_merge_file/BERT_create_corpus/view_data/data/total_corpus.txt\"\n",
    "\n",
    "def merge_first_lines(file1, file2, output_file):\n",
    "    # Read the first lines from file1 and file2\n",
    "    with open(file1, 'r') as f1, open(file2, 'r') as f2:\n",
    "        first_line1 = f1.readline().strip()\n",
    "        first_line2 = f2.readline().strip()\n",
    "\n",
    "    # Split the first lines by tabs and merge them into a set\n",
    "    words1 = set(first_line1.split('\\t'))\n",
    "    words2 = set(first_line2.split('\\t'))\n",
    "    merged_set = words1.union(words2)\n",
    "    print(\"total word is: \", len(merged_set))\n",
    "    # Write the set elements to the output file separated by tabs\n",
    "    with open(output_file, 'w') as output:\n",
    "        output.write('\\t'.join(merged_set))\n",
    "    \n",
    "\n",
    "merge_first_lines(input_1, input_2, out_all)\n",
    "\n"
   ]
  }
 ],
 "metadata": {
  "kernelspec": {
   "display_name": "reEnv3.7.13",
   "language": "python",
   "name": "python3"
  },
  "language_info": {
   "codemirror_mode": {
    "name": "ipython",
    "version": 3
   },
   "file_extension": ".py",
   "mimetype": "text/x-python",
   "name": "python",
   "nbconvert_exporter": "python",
   "pygments_lexer": "ipython3",
   "version": "3.7.13"
  },
  "orig_nbformat": 4
 },
 "nbformat": 4,
 "nbformat_minor": 2
}
