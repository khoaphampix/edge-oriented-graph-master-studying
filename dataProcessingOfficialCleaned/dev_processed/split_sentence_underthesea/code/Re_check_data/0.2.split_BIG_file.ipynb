{
 "cells": [
  {
   "attachments": {},
   "cell_type": "markdown",
   "metadata": {},
   "source": []
  },
  {
   "cell_type": "code",
   "execution_count": 4,
   "metadata": {},
   "outputs": [
    {
     "name": "stdout",
     "output_type": "stream",
     "text": [
      "new_folder_prefix  23355290\n",
      "first_text  #Text=Những tấm lòng vàng Giúp người dân vùng bão lụt miền Trung : Công ty CP xây dựng Bắc Nam 79: 1.000.000.000 đồng\n",
      "/Users/n2t2k/Documents/Studying/Master/Thesis/InProgress/Coding/ORIGIN_RUN_ALL_edge-oriented-graph-master-studying/dataProcessingOfficialCleaned/dev_processed/example_VLSP_big_size/output_split_BIG_file/new/00105290.conll.conll/CURATION_USER.tsv\n",
      "/Users/n2t2k/Documents/Studying/Master/Thesis/InProgress/Coding/ORIGIN_RUN_ALL_edge-oriented-graph-master-studying/dataProcessingOfficialCleaned/dev_processed/example_VLSP_big_size/output_split_BIG_file/new/00205290.conll.conll/CURATION_USER.tsv\n",
      "/Users/n2t2k/Documents/Studying/Master/Thesis/InProgress/Coding/ORIGIN_RUN_ALL_edge-oriented-graph-master-studying/dataProcessingOfficialCleaned/dev_processed/example_VLSP_big_size/output_split_BIG_file/new/00305290.conll.conll/CURATION_USER.tsv\n",
      "/Users/n2t2k/Documents/Studying/Master/Thesis/InProgress/Coding/ORIGIN_RUN_ALL_edge-oriented-graph-master-studying/dataProcessingOfficialCleaned/dev_processed/example_VLSP_big_size/output_split_BIG_file/new/00405290.conll.conll/CURATION_USER.tsv\n",
      "/Users/n2t2k/Documents/Studying/Master/Thesis/InProgress/Coding/ORIGIN_RUN_ALL_edge-oriented-graph-master-studying/dataProcessingOfficialCleaned/dev_processed/example_VLSP_big_size/output_split_BIG_file/new/00505290.conll.conll/CURATION_USER.tsv\n",
      "/Users/n2t2k/Documents/Studying/Master/Thesis/InProgress/Coding/ORIGIN_RUN_ALL_edge-oriented-graph-master-studying/dataProcessingOfficialCleaned/dev_processed/example_VLSP_big_size/output_split_BIG_file/new/00605290.conll.conll/CURATION_USER.tsv\n",
      "/Users/n2t2k/Documents/Studying/Master/Thesis/InProgress/Coding/ORIGIN_RUN_ALL_edge-oriented-graph-master-studying/dataProcessingOfficialCleaned/dev_processed/example_VLSP_big_size/output_split_BIG_file/new/00705290.conll.conll/CURATION_USER.tsv\n",
      "/Users/n2t2k/Documents/Studying/Master/Thesis/InProgress/Coding/ORIGIN_RUN_ALL_edge-oriented-graph-master-studying/dataProcessingOfficialCleaned/dev_processed/example_VLSP_big_size/output_split_BIG_file/new/00805290.conll.conll/CURATION_USER.tsv\n",
      "/Users/n2t2k/Documents/Studying/Master/Thesis/InProgress/Coding/ORIGIN_RUN_ALL_edge-oriented-graph-master-studying/dataProcessingOfficialCleaned/dev_processed/example_VLSP_big_size/output_split_BIG_file/new/00905290.conll.conll/CURATION_USER.tsv\n",
      "/Users/n2t2k/Documents/Studying/Master/Thesis/InProgress/Coding/ORIGIN_RUN_ALL_edge-oriented-graph-master-studying/dataProcessingOfficialCleaned/dev_processed/example_VLSP_big_size/output_split_BIG_file/new/01005290.conll.conll/CURATION_USER.tsv\n",
      "/Users/n2t2k/Documents/Studying/Master/Thesis/InProgress/Coding/ORIGIN_RUN_ALL_edge-oriented-graph-master-studying/dataProcessingOfficialCleaned/dev_processed/example_VLSP_big_size/output_split_BIG_file/new/01105290.conll.conll/CURATION_USER.tsv\n",
      "/Users/n2t2k/Documents/Studying/Master/Thesis/InProgress/Coding/ORIGIN_RUN_ALL_edge-oriented-graph-master-studying/dataProcessingOfficialCleaned/dev_processed/example_VLSP_big_size/output_split_BIG_file/new/01205290.conll.conll/CURATION_USER.tsv\n"
     ]
    }
   ],
   "source": [
    "import os\n",
    "\n",
    "def process_folder(folder_path, output_folder,n=10):\n",
    "    folder_name = os.path.basename(folder_path)\n",
    "    new_folder_prefix = folder_name[:-6]\n",
    "    print(\"new_folder_prefix \", new_folder_prefix)\n",
    "    with open(os.path.join(folder_path, 'CURATION_USER.tsv'), 'r') as f:\n",
    "        lines = f.readlines()\n",
    "        for i in range(len(lines)):\n",
    "            if lines[i].startswith(\"#Text=\"):\n",
    "                texts = lines[i].strip().split(';')\n",
    "                first_text = texts[0]\n",
    "                print(\"first_text \", first_text)\n",
    "                remaining_texts = texts[1:]\n",
    "                new_texts = [first_text + ';' + ';'.join(remaining_texts[j:j+n]) \n",
    "                             for j in range(0, len(remaining_texts), n)]\n",
    "                # print(\"first_text \", remaining_texts)\n",
    "                for j in range(len(new_texts)):\n",
    "                    new_folder_name = '{:03d}0'.format(j+1) + folder_name[4:] + '.conll'\n",
    "                    new_folder_path = os.path.join(os.path.dirname(output_folder), new_folder_name)\n",
    "                    if not os.path.exists(new_folder_path):\n",
    "                        os.mkdir(new_folder_path)\n",
    "                    new_file_path = os.path.join(new_folder_path, 'CURATION_USER.tsv')\n",
    "                    print(new_file_path)\n",
    "                    with open(new_file_path, 'w') as new_file:\n",
    "                        new_lines = lines[:i] + ['#Text=' + new_texts[j] + '\\n'] + lines[i+1:]\n",
    "                        new_file.writelines(new_lines)\n",
    "            \n",
    "big_file_folder_path = \\\n",
    "    \"/Users/n2t2k/Documents/Studying/Master/Thesis/InProgress/Coding/ORIGIN_RUN_ALL_edge-oriented-graph-master-studying/dataProcessingOfficialCleaned/dev_processed/example_VLSP_big_size/23355290.conll\"\n",
    "\n",
    "output_folder = \\\n",
    " \"/Users/n2t2k/Documents/Studying/Master/Thesis/InProgress/Coding/ORIGIN_RUN_ALL_edge-oriented-graph-master-studying/dataProcessingOfficialCleaned/dev_processed/example_VLSP_big_size/output_split_BIG_file/new/\"\n",
    "process_folder(big_file_folder_path, output_folder, n=10)"
   ]
  }
 ],
 "metadata": {
  "kernelspec": {
   "display_name": "reEnv3.7.13",
   "language": "python",
   "name": "python3"
  },
  "language_info": {
   "codemirror_mode": {
    "name": "ipython",
    "version": 3
   },
   "file_extension": ".py",
   "mimetype": "text/x-python",
   "name": "python",
   "nbconvert_exporter": "python",
   "pygments_lexer": "ipython3",
   "version": "3.7.13"
  },
  "orig_nbformat": 4
 },
 "nbformat": 4,
 "nbformat_minor": 2
}
