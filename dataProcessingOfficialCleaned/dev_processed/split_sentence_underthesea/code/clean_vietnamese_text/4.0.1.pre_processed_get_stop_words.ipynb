{
  "cells": [
    {
      "cell_type": "code",
      "execution_count": null,
      "metadata": {},
      "outputs": [],
      "source": [
        "from pprint import pprint\n",
        "import json\n",
        "from os import listdir, remove\n",
        "from os.path import isfile, join, isdir\n",
        "\n",
        "def write_append_data_to_txt_file(full_path_to_file, txt):\n",
        "    with open(full_path_to_file,'a') as out:\n",
        "        out.write(f'{txt}\\n')\n",
        "        # out.write(f'{txt}')s\n",
        "        \n",
        "def clear_file(full_path_to_files_list):\n",
        "    for _file in full_path_to_files_list:\n",
        "      with open(_file,'w') as out:\n",
        "        out.write(f'')\n"
      ]
    },
    {
      "cell_type": "code",
      "execution_count": null,
      "metadata": {},
      "outputs": [],
      "source": [
        "from stop_words import get_stop_words\n",
        "stop_words = get_stop_words('vietnamese')\n",
        "\n",
        "def remove_stop_words(text):\n",
        "    text = ' '.join([word for word in text.split() if word.lower() not in stop_words])\n",
        "    return text\n",
        "t = \\\n",
        "\"23352508|a|Trái_Đất ' thoát nạn ' khi bị tới ba tiểu hành_tinh tiếp_cận Được biết , ba tiểu hành_tinh này có tên lần_lượt là 2017 SQ2 , 2017_SM2 và 2017_SR2 .|Chỉ trong một tuần trở_lại đây , các nhà thiên_văn_học đã phát_hiện có tới ba tiểu hành_tinh chưa từng được biết tới trước đây đã tiếp_cận rất gần với Trái_Đất , nhưng điều may_mắn là chúng không gây ra bất_cứ nguy_hiểm gì cho Trái_Đất của chúng_ta .|Tiểu hành_tinh 2017 SQ2 thuộc nhóm tiểu hành_tinh Apollo , đường_kính ước_tính của nó là từ 19 đến 41 m ( 62 và 134 feet )  , dưới đây là video về quỹ_đạo bay của nó : Tiểu hành_tinh 2017 SQ2 đã bay qua Trái_Đất lúc 16 : 19 UTC ( ±_6 phút ) vào ngày 14 - 9 với tốc_độ ( tương_đối so với Trái_Đất ) là 10 . 06 km / s và được phát_hiện 4 ngày sau đó tại Catalina Sky_Survey , khoảng_cách của nó so với Trái_Đất vào khoảng 193 . 000 km .|Hai tiểu hành_tinh còn lại là 2017_SM2 và 2017_SR2 được phát_hiện vào sáng 19 - 9 và 13h chiều 20 - 9 , khoảng_cách của chúng so với Trái_Đất lần_lượt là ~302 . 680 km và ~88 . 550 km .|Trong đó , tiểu hành_tinh gần Trái_Đất nhất là 2017_SR2 có kích_thích thước chỉ tương_đương một chiếc xe bus .|Theo thống_kê , năm nay đã có tổng_cộng 31 tiểu hành_tinh có cự_li gần với trái_đất và mặt_trăng đã bay lướt qua Trái_Đất , lần gần đây nhất là vào tháng 4 - 2017 .|Trung Nguyễn ( Tổng hợp )  . \"\n",
        "\n",
        "# test = remove_stop_words(t)\n",
        "# print(len(t), len(test))\n",
        "# print(t)\n",
        "# print(test)\n"
      ]
    },
    {
      "cell_type": "code",
      "execution_count": null,
      "metadata": {},
      "outputs": [],
      "source": [
        "from os import listdir, remove\n",
        "from os.path import isfile, join, isdir\n",
        "from pprint import pprint\n",
        "\n",
        "special_split_sent_not_final_IN_path_folder = \\\n",
        "\"/Users/n2t2k/Documents/Studying/Master/Thesis/InProgress/Coding/ORIGIN_RUN_ALL_edge-oriented-graph-master-studying/dataProcessingOfficialCleaned/dev_processed/split_sentence_underthesea/docs/common_info_embedd_files/split_passage_for_final_processed\"\n",
        "\n",
        "# clear_file([shortEnt_in_longEntity_OUT_PATH])\n",
        "\n",
        "\n",
        "onlyfiles = [f for f in listdir(special_split_sent_not_final_IN_path_folder) if isfile(join(special_split_sent_not_final_IN_path_folder, f))]\n",
        "onlyfiles = sorted(onlyfiles)\n",
        "print(onlyfiles)\n",
        "\n",
        "count_abnomal = 0\n",
        "for idx, doc_code in enumerate(onlyfiles):\n",
        "    # print(doc_code)\n",
        "    # if doc_code != \"23352508\":\n",
        "    #     continue\n",
        "    # print(doc_code)\n",
        "    \n",
        "    # if idx > 1:\n",
        "    #     break\n",
        "    # print(doc_code)\n",
        "    special_split_sent_not_final_IN_path = special_split_sent_not_final_IN_path_folder+'/'+ doc_code\n",
        "    with open(special_split_sent_not_final_IN_path,'r') as _org_docs_file:\n",
        "        doc_list = []\n",
        "        for org_docs_line in _org_docs_file:\n",
        "            org_docs_line = org_docs_line[:-1]\n",
        "            word_after_code =  org_docs_line[8:11]\n",
        "            if  word_after_code == '|a|':\n",
        "                # line_ls_tab_split = org_docs_line.split('\\t')\n",
        "                \n",
        "                print(len(org_docs_line) ,org_docs_line[:120] )\n",
        "                org_docs_line = remove_stop_words(org_docs_line)\n",
        "                print(len(org_docs_line) ,org_docs_line[:120] )\n",
        "                print('\\n')\n",
        "                        \n",
        "            doc_list.append(org_docs_line)\n",
        "\n",
        "        file_name = special_split_sent_not_final_IN_path_folder+\"/\"+doc_code\n",
        "        clear_file([file_name])        \n",
        "        for line_to_write in doc_list:\n",
        "            \"\"\"\n",
        "                replace abnormal words\n",
        "            \"\"\"\n",
        "            write_append_data_to_txt_file(file_name, line_to_write)\n",
        "        # pprint(doc_list)\n",
        "        # print(doc_list[1])\n",
        "        # print(doc_list[2])\n",
        "print(f\"count_abnomal:  {count_abnomal}\")\n",
        "        \n",
        "       \n",
        "# # Serializing json\n",
        "# json_object = json.dumps(shortEnt_in_longEntity_json, indent=4)\n",
        "# with open(shortEnt_in_longEntity_OUT_PATH, \"w\") as outfile:\n",
        "#     outfile.write(json_object)\n",
        "\n",
        "                                            \n",
        "                            \n",
        "                        # write_append_data_to_txt_file(processed_error_files_OUT_PATH, doc_code)\n",
        " "
      ]
    },
    {
      "attachments": {},
      "cell_type": "markdown",
      "metadata": {},
      "source": [
        "### START TO CREATE PROCESSED FILE\n",
        "# sample:\n",
        "625456\tObsolete ... preparations .|One case ... years .|\n",
        "\n",
        "1:CID:2\tR2L\tNON-CROSS\t27-31\t10-11\t\n",
        "    D002119\tcalcium carbon - ate\tChemical\t27\t31\t1\t\n",
        "    D006934\thypercalcaemia\tDisease\t10\t11\t1\t\n"
      ]
    }
  ],
  "metadata": {
    "accelerator": "GPU",
    "colab": {
      "provenance": []
    },
    "kernelspec": {
      "display_name": "Python 3",
      "name": "python3"
    },
    "language_info": {
      "codemirror_mode": {
        "name": "ipython",
        "version": 3
      },
      "file_extension": ".py",
      "mimetype": "text/x-python",
      "name": "python",
      "nbconvert_exporter": "python",
      "pygments_lexer": "ipython3",
      "version": "3.7.13"
    }
  },
  "nbformat": 4,
  "nbformat_minor": 0
}
