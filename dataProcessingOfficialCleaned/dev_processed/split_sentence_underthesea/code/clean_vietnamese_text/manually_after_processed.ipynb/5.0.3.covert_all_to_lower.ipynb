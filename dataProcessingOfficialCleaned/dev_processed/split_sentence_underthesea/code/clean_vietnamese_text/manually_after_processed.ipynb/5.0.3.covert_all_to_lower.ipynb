{
  "cells": [
    {
      "cell_type": "code",
      "execution_count": null,
      "metadata": {},
      "outputs": [],
      "source": [
        "from pprint import pprint\n",
        "import json\n",
        "from os import listdir, remove\n",
        "from os.path import isfile, join, isdir\n",
        "\n",
        "def write_append_data_to_txt_file(full_path_to_file, txt):\n",
        "    with open(full_path_to_file,'a') as out:\n",
        "        out.write(f'{txt}\\n')\n",
        "        # out.write(f'{txt}')s\n",
        "        \n",
        "def clear_file(full_path_to_files_list):\n",
        "    for _file in full_path_to_files_list:\n",
        "      with open(_file,'w') as out:\n",
        "        out.write(f'')\n"
      ]
    },
    {
      "cell_type": "code",
      "execution_count": null,
      "metadata": {},
      "outputs": [],
      "source": []
    },
    {
      "attachments": {},
      "cell_type": "markdown",
      "metadata": {},
      "source": [
        "['’', '¾', '²', '.', '>', '+', '/', '|', '\\n', ',', '‘', \n",
        "\n",
        "'&', \"'\", '*', '-', '\"', ']', '?', ':', '“', '\\t', ';', '–', \n",
        "\n",
        "'½', '_', '\\ufeff', '…', '!', '(', ' ', '@', '”', '[', '=', '%', ')']\n",
        "\n",
        "- - - - - - - - - - - - - - - - - - - - - - - - - - - - - - - - - - - - - - - - - - - - - - - - \n",
        "- - - - - - - - - - - - - - - - - - - - - - - - - - - - - - - - - - - - - - - - - - - - - - - - \n",
        "\n",
        "['.', '>', '+', '/', ',', '&', \"'\", '*', '-', '\"', ']', '?', ':', ';', '!', '(', ')' '@', \"[\", '=', '%', ']'\n",
        ".>+/&,*-?:;!()@[,=%]\"'\n"
      ]
    },
    {
      "cell_type": "code",
      "execution_count": null,
      "metadata": {},
      "outputs": [],
      "source": [
        "from unidecode import unidecode\n",
        "import re\n",
        "\n",
        "def convert_to_vietnamese_lower(text):\n",
        "    \"\"\"\n",
        "    Convert all Vietnamese text to Vietnamese lowercase.\n",
        "\n",
        "    Args:\n",
        "        text (str): Text to convert.\n",
        "\n",
        "    Returns:\n",
        "        str: Converted text in Vietnamese lowercase.\n",
        "    \"\"\"\n",
        "    # Convert text to Unicode NFD form\n",
        "    # text = unidecode(text.decode('utf-8', 'ignore')).lower()\n",
        "    text = unidecode(text).lower()\n",
        "\n",
        "    # # Replace any remaining non-letter or non-space characters\n",
        "    # text = re.sub(r'[^a-z ]', '', text)\n",
        "\n",
        "    return text\n",
        "\n",
        "\n",
        "\n",
        "\n",
        "input_str = \"\"\"23351164|a|Quảng_Bình : Cát tặc lộng_hành, hiểm_họa rình_rập cầu Long_Đại và dòng sông? .|Hiện_tượng khai_thác cát 'lậu\" trên sông cách cầu Long_Đại vài trăm mét về phía hạ_lưu, khiến cầu và sông Long_Đại đang đứng trước hiểm_họa khó lường? .|Vừa_qua Pháp_luật Plus nhận phản_ánh của những người dân sống ở xã Xuân_Ninh , huyện Quảng_Ninh , tỉnh_Quảng_Bình về việc hiện_nay ở xã này, cụ_thể là tại thôn Xuân_Dục 1 khu_vực ven sông Long_Đại lâu này xuất_hiện những bãi_tập_kết cát trái_phép và hiện_tượng khai_thác cát 'lậu\" trên sông cả ngày lẫn đêm gây ảnh_hưởng đến đến cuộc_sống thường_nhật của người dân nơi đây .|Từ những nguồn tin nêu trên sáng ngày 21/9, PV đã tiếp_cận hiện_trường_đoạn sông Long_Đại thuộc thôn Xuân_Dụ 1 , xã Xuân_Ninh , huyện Quảng_Ninh , tỉnh_Quảng_Bình nơi người dân phản_ánh để củng_cố thông_tin .|Tại đây, PV nhận thấy nhiều bãi_tập_kết cát gần khu_vực dân_cư sinh_sống, hàng ngày nhiều tàu chở cát vào đây để tập_kết cát, gây ra tiếng_ồn khó_chịu ảnh_hưởng không nhỏ đến sinh_hoạt của người dân .|Những bãi_tập_kết cát trái_phép .|Hơn thế nữa theo tìm_hiểu của PV được biết, những vị_trí có bãi_tập_kết cát kể trên không đủ tiêu_chuẩn để tàu cập bến tập_kết? .|Trưa cùng ngày PV đã đi theo hướng thượng_nguồn sông Long_Đại mà theo phản_ánh là xảy ra tình_trạng khai_thác cát trái_phép thường_xuyên diễn ra .|PV nhận thấy một chiếc thuyền đang neo đậu cách bờ chừng vài chục mét và cách móng cầu Long_Đại chừng vài trăm mét theo hướng hạ nguồn đang hút cát lên thuyền .|Chiếc thuyền (ô đỏ) đang khai_thác cát trái_phép cách cầu Long_Đại không xa .|Tiếp_tục ghi_nhận và theo_dõi vụ_việc khoảng_chừng hơn 30 phút, chiếc thuyền đã đầy cát đã được đi chuyển đi tập_kết .|Chiếc thuyền sau khi hút cát trái_phép di_chuyển về bãi_tập_kết .|Qua tìm_hiểu của PV được biết, cát ở khu_vực gần cầu Long_Đại là cát nhiễm mặn nếu dùng vào việc thi_công công_trình sẽ ảnh_hưởng đến chất_lượng của công_trình đó Và cát này được chủ thuyền bán lại cho người sử_dụng với giá rẻ hơn so với cát được khai_thác ở mỏ được cấp phép gây nên sự cạnh_tranh không lành_mạnh về giá cát .|Tuy_nhiên nhiều người dân chưa nhận thấy đến việc chất_lượng của công_trình sau_này khi sử_dụng cát nhiễm mặn này .|Điều đáng nói là việc khai_thác cát trái_phép lại diễn ra khu_vực gần móng cầu Long_Đại (cả đường_sắt lẫn đường_bộ) nguy_cơ sạc lở đất khu_vực móng cầu, khiến cầu Long_Đại đứng trước hiểm_họa khó lường? .|Liên_quan đến vấn_đề này, trao_đổi với PV ông Nguyễn_Trường_Tiến - Chủ_tịch xã Xuân_Ninh cho biết về phía xã cũng đã nhiều lần xử_lý nhắc_nhở người dân trong vấn_đề tập_kết cát đúng nơi quy_định .|'Ngoài_ra, xã đang hướng_dẫn và hoàn_thành các thủ_tục nhằm đưa các điểm tập_kết trái_phép này đúng vào nơi quy_định trong thời_gian sớm nhất\", ông Tiến cho biết thêm .|Ông Nguyễn_Trường_Tiến - Chủ_tịch xã Xuân_Ninh (bên phải) tại buổi làm_việc với PV .|Khi được PV cũng cấp bằng_chứng về việc thuyền khai_thác cát trái_phép ngay giữa ban_ngày gần khu_vực móng cầu Long_Đại , ông Tiến đã hết_sức bất_ngờ nói 'Như_vậy là không được rồi, không được rồi sẽ cho xử_lý ngay\" Tiếp đó PV liên_lạc qua điện_thoại với ông Phạm_Trung_Đông - Chủ_tịch UBND_huyện_Quảng_Ninh để phản_ánh sự_việc thì ông Đông cho biết, đang bận và hướng_dẫn PV liên_hệ với ông Nguyễn_Viết_Giai - Trưởng Phòng_Tài_nguyên_môi_trường_huyện_Quảng_Ninh để làm_việc .|Tại buổi là việc với ông Nguyễn_Viết_Giai - Trưởng Phòng_Tài_nguyên_môi_trường_huyện_Quảng_Ninh PV đã cung_cấp clip về việc nạn khai_thác trái_phép diễn ra ngay trên sông Long_Đại đoạn gần móng cầu ông Giai cũng đã kiên_quyết và hứa sẽ đấu_tranh xử_lý, đồng_thời phối_hợp với các cơ_quan_chức_năng khác thường_xuyên kiểm_tra để chấm_dứt tình_trạng này .|Ông Nguyễn_Viết_Giai cho biết sẽ đấu_tranh xử_lý Còn về việc các bãi_tập_kết trái_phép, ông Giai cho biết sẽ xử_lý dứt_điểm trong thời_gian sớm nhất để không ảnh_hưởng tới cuộc_sống người dân xung_quanh .|Khi được PV hỏi thời_gian sớm nhất là bao_lâu ông Giai cho biết: 'ở đây đang còn vướng một khâu thủ_tục .|thời_gian giải_quyết sớm nhất cũng phải mất chừng 7 đến 10 ngày.\" Việc khai_thác cát trái_phép gần cầu Long_Đại (cả đường_sắt lẫn đường_bộ) nguy_cơ sạt_lở đất khu_vực móng cầu, khiến cầu Long_Đại đứng trước hiểm_họa khó lường? .|Tuy là vậy nhưng trong_sáng 22/9, PV một lần nữa đến tại hiện_trường chiếc thuyền khai_thác trái_phép thì nhận thấy tình_hình khai_thác cát trái_phép vẫn không hề thay_đổi .|Một lần nữa PV đã gọi điện_thoại cho ông Nguyễn_Trường_Tiến - Chủ_tịch xã Xuân_Ninh và ông Nguyễn_Viết_Giai - Trưởng Phòng_Tài_nguyên_môi_trường_huyện_Quảng_Ninh để phản_ánh thì lại được 2 vị hứa 'sẽ xử_lý\" .|Trong sáng 22/9 việc khai_thác cát trái_phép vẫn diễn ra mà không có sự can_thiệp của cơ quyan chức_năng? .|Từ những việc nêu trên, dư_luận không_thể không đặt ra câu hỏi liệu những việc xảy ra ở đây có phải là có sự 'bảo_kê\" hoặc có sự tiếp_tay của lực_lượng chức_năng có thẩm thẩm_quyền hay không? .|Pháp_luật Plus sẽ tiếp_tục thông_tin vụ_việc đến bạn đọc .\"\"\"\n",
        "output_str = convert_to_vietnamese_lower(input_str)\n",
        "# Print the output string\n",
        "print(input_str)\n",
        "print(output_str)\n",
        "print(len(output_str), len(output_str))\n",
        "\n",
        "\n",
        "\n"
      ]
    },
    {
      "cell_type": "code",
      "execution_count": null,
      "metadata": {},
      "outputs": [],
      "source": []
    },
    {
      "cell_type": "code",
      "execution_count": null,
      "metadata": {},
      "outputs": [],
      "source": [
        "from os import listdir, remove\n",
        "from os.path import isfile, join, isdir\n",
        "from pprint import pprint\n",
        "\n",
        "special_split_sent_not_final_IN_path_folder = \\\n",
        "\"/Users/n2t2k/Documents/Studying/Master/Thesis/InProgress/Coding/ORIGIN_RUN_ALL_edge-oriented-graph-master-studying/dataProcessingOfficialCleaned/dev_processed/split_sentence_underthesea/docs/common_info_embedd_files/split_passage_for_final_processed\"\n",
        "\n",
        "# clear_file([shortEnt_in_longEntity_OUT_PATH])\n",
        "\n",
        "\n",
        "onlyfiles = [f for f in listdir(special_split_sent_not_final_IN_path_folder) if isfile(join(special_split_sent_not_final_IN_path_folder, f))]\n",
        "onlyfiles = sorted(onlyfiles)\n",
        "print(onlyfiles)\n",
        "\n",
        "count_abnomal = 0\n",
        "for idx, doc_code in enumerate(onlyfiles):\n",
        "\n",
        "    \n",
        "    # if idx > 1:\n",
        "    #     break\n",
        "    # print(doc_code)\n",
        "    special_split_sent_not_final_IN_path = special_split_sent_not_final_IN_path_folder+'/'+ doc_code\n",
        "    with open(special_split_sent_not_final_IN_path,'r') as _org_docs_file:\n",
        "        doc_list = []\n",
        "        for org_docs_line in _org_docs_file:\n",
        "            org_docs_line = org_docs_line[:-1]\n",
        "            word_after_code =  org_docs_line[8:11]\n",
        "\n",
        "            if  word_after_code == '|a|':\n",
        "                org_docs_line = convert_to_vietnamese_lower(org_docs_line)            \n",
        "            elif len(org_docs_line.split('\\t')) ==6:\n",
        "                ent = org_docs_line.split(\"\\t\")[3]\n",
        "                new_ent = convert_to_vietnamese_lower(ent)\n",
        "                org_docs_line = org_docs_line.replace(ent, new_ent)\n",
        "\n",
        "            doc_list.append(org_docs_line)\n",
        "\n",
        "        file_name = special_split_sent_not_final_IN_path_folder+\"/\"+doc_code\n",
        "        clear_file([file_name])        \n",
        "        for line_to_write in doc_list:\n",
        "            write_append_data_to_txt_file(file_name, line_to_write)\n",
        "print(f\"count_abnomal:  {count_abnomal}\")\n"
      ]
    },
    {
      "attachments": {},
      "cell_type": "markdown",
      "metadata": {},
      "source": [
        "### START TO CREATE PROCESSED FILE\n",
        "# sample:\n",
        "625456\tObsolete ... preparations .|One case ... years .|\n",
        "\n",
        "1:CID:2\tR2L\tNON-CROSS\t27-31\t10-11\t\n",
        "    D002119\tcalcium carbon - ate\tChemical\t27\t31\t1\t\n",
        "    D006934\thypercalcaemia\tDisease\t10\t11\t1\t\n"
      ]
    }
  ],
  "metadata": {
    "accelerator": "GPU",
    "colab": {
      "provenance": []
    },
    "kernelspec": {
      "display_name": "Python 3",
      "name": "python3"
    },
    "language_info": {
      "codemirror_mode": {
        "name": "ipython",
        "version": 3
      },
      "file_extension": ".py",
      "mimetype": "text/x-python",
      "name": "python",
      "nbconvert_exporter": "python",
      "pygments_lexer": "ipython3",
      "version": "3.7.13"
    }
  },
  "nbformat": 4,
  "nbformat_minor": 0
}
