{
 "cells": [
  {
   "attachments": {},
   "cell_type": "markdown",
   "metadata": {},
   "source": []
  },
  {
   "cell_type": "code",
   "execution_count": 1,
   "metadata": {},
   "outputs": [],
   "source": [
    "import os\n",
    "\n",
    "input_folder_processed = \\\n",
    "    \"/Users/n2t2k/Documents/Studying/Master/Thesis/InProgress/Coding/ORIGIN_RUN_ALL_edge-oriented-graph-master-studying/dataProcessingOfficialCleaned/dev_processed/split_sentence_underthesea/docs/common_info_embedd_files/split_passage_for_final_processed\"\n",
    "\n",
    "out_all_sent_processed_files = \\\n",
    "    \"/Users/n2t2k/Documents/Studying/Master/Thesis/InProgress/Coding/ORIGIN_RUN_ALL_edge-oriented-graph-master-studying/dataProcessingOfficialCleaned/dev_processed/split_sentence_underthesea/code/clean_vietnamese_text/manually_after_processed.ipynb/view_data/data/view_all_processed_sentences.txt\"\n",
    "\n",
    "def read_folder_and_split_files(input_folder, output_file):\n",
    "    with open(output_file, 'w') as out_file:\n",
    "        for file_name in os.listdir(input_folder):\n",
    "            with open(os.path.join(input_folder, file_name), 'r') as in_file:\n",
    "                lines = in_file.readlines()\n",
    "                if len(lines) > 1:\n",
    "                    split_line = lines[1].strip().split('.|')\n",
    "                    out_file.write('\\n'.join(split_line) + '\\n\\n')\n",
    "\n",
    "read_folder_and_split_files(input_folder_processed, out_all_sent_processed_files)\n"
   ]
  }
 ],
 "metadata": {
  "kernelspec": {
   "display_name": "reEnv3.7.13",
   "language": "python",
   "name": "python3"
  },
  "language_info": {
   "codemirror_mode": {
    "name": "ipython",
    "version": 3
   },
   "file_extension": ".py",
   "mimetype": "text/x-python",
   "name": "python",
   "nbconvert_exporter": "python",
   "pygments_lexer": "ipython3",
   "version": "3.7.13"
  },
  "orig_nbformat": 4
 },
 "nbformat": 4,
 "nbformat_minor": 2
}
