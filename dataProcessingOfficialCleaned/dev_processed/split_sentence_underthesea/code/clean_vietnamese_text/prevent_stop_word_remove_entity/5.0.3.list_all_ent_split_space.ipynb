{
  "cells": [
    {
      "cell_type": "code",
      "execution_count": null,
      "metadata": {},
      "outputs": [],
      "source": [
        "from pprint import pprint\n",
        "import json\n",
        "from os import listdir, remove\n",
        "from os.path import isfile, join, isdir\n",
        "\n",
        "def write_append_data_to_txt_file(full_path_to_file, txt):\n",
        "    with open(full_path_to_file,'a') as out:\n",
        "        out.write(f'{txt}\\n')\n",
        "        # out.write(f'{txt}')s\n",
        "        \n",
        "def clear_file(full_path_to_files_list):\n",
        "    for _file in full_path_to_files_list:\n",
        "      with open(_file,'w') as out:\n",
        "        out.write(f'')\n"
      ]
    },
    {
      "attachments": {},
      "cell_type": "markdown",
      "metadata": {},
      "source": [
        "['’', '¾', '²', '.', '>', '+', '/', '|', '\\n', ',', '‘', \n",
        "\n",
        "'&', \"'\", '*', '-', '\"', ']', '?', ':', '“', '\\t', ';', '–', \n",
        "\n",
        "'½', '_', '\\ufeff', '…', '!', '(', ' ', '@', '”', '[', '=', '%', ')']\n",
        "\n",
        "- - - - - - - - - - - - - - - - - - - - - - - - - - - - - - - - - - - - - - - - - - - - - - - - \n",
        "- - - - - - - - - - - - - - - - - - - - - - - - - - - - - - - - - - - - - - - - - - - - - - - - \n",
        "\n",
        "['.', '>', '+', '/', ',', '&', \"'\", '*', '-', '\"', ']', '?', ':', ';', '!', '(', ')' '@', \"[\", '=', '%', ']'\n",
        ".>+/&,*-?:;!()@[,=%]\"'\n"
      ]
    },
    {
      "cell_type": "code",
      "execution_count": null,
      "metadata": {},
      "outputs": [],
      "source": [
        "import os\n",
        "import re\n",
        "\n",
        "def extract_entity_split(folder_path, output_file_sent):\n",
        "    data = {}\n",
        "    for filename in os.listdir(folder_path):\n",
        "        if filename:\n",
        "            filepath = os.path.join(folder_path, filename)\n",
        "            code = filename.split(\".\")[0]\n",
        "            with open(filepath, \"r\", encoding=\"utf-8\") as f:\n",
        "                s = set()\n",
        "                for line in f:\n",
        "                    fields = line.strip().split(\"\\t\")\n",
        "                    if len(fields) == 6:\n",
        "                        word = fields[3].split(\" \")\n",
        "                        # if word.isupper():\n",
        "                        #     continue\n",
        "                        s.update(word)\n",
        "                data[code] = list(s)\n",
        "    with open(output_file_sent, \"w\", encoding=\"utf-8\") as f:\n",
        "        json.dump(data, f, ensure_ascii=False, indent=2)\n",
        "    with open(output_file_sent, \"r\", encoding=\"utf-8\") as f:\n",
        "        result = json.load(f)\n",
        "        print(result)\n",
        "\n",
        "\n",
        "\n",
        "folder_path_process = \\\n",
        "\"/Users/n2t2k/Documents/Studying/Master/Thesis/InProgress/Coding/ORIGIN_RUN_ALL_edge-oriented-graph-master-studying/dataProcessingOfficialCleaned/dev_processed/split_sentence_underthesea/docs/common_info_embedd_files/split_passage_for_final_processed\"\n",
        "\n",
        "output_file_sent = \\\n",
        "\"/Users/n2t2k/Documents/Studying/Master/Thesis/InProgress/Coding/ORIGIN_RUN_ALL_edge-oriented-graph-master-studying/dataProcessingOfficialCleaned/dev_processed/split_sentence_underthesea/code/clean_vietnamese_text/prevent_stop_word_remove_entity/view_data/ent_split_space_doc.json\"\n",
        "\n",
        "extract_entity_split(folder_path_process, output_file_sent)\n",
        "\n",
        "\n"
      ]
    },
    {
      "attachments": {},
      "cell_type": "markdown",
      "metadata": {},
      "source": [
        "### START TO CREATE PROCESSED FILE\n",
        "# sample:\n",
        "625456\tObsolete ... preparations .|One case ... years .|\n",
        "\n",
        "1:CID:2\tR2L\tNON-CROSS\t27-31\t10-11\t\n",
        "    D002119\tcalcium carbon - ate\tChemical\t27\t31\t1\t\n",
        "    D006934\thypercalcaemia\tDisease\t10\t11\t1\t\n"
      ]
    }
  ],
  "metadata": {
    "accelerator": "GPU",
    "colab": {
      "provenance": []
    },
    "kernelspec": {
      "display_name": "Python 3",
      "name": "python3"
    },
    "language_info": {
      "codemirror_mode": {
        "name": "ipython",
        "version": 3
      },
      "file_extension": ".py",
      "mimetype": "text/x-python",
      "name": "python",
      "nbconvert_exporter": "python",
      "pygments_lexer": "ipython3",
      "version": "3.7.13"
    }
  },
  "nbformat": 4,
  "nbformat_minor": 0
}
