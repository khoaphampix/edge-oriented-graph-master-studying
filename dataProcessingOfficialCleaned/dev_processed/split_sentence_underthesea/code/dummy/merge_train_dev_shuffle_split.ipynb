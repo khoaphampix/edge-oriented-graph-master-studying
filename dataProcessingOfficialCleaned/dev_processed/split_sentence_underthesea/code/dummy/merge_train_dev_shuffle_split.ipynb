{
  "cells": [
    {
      "cell_type": "code",
      "execution_count": 3,
      "metadata": {},
      "outputs": [],
      "source": [
        "import random\n",
        "\n",
        "def merge_shuffle_split(input_files_path, output_files_path):\n",
        "    file1_path, file2_path = input_files_path\n",
        "    train_txt, test_txt = output_files_path\n",
        "    # read in the contents of both files\n",
        "    with open(file1_path, 'r') as file1, open(file2_path, 'r') as file2:\n",
        "        lines1 = file1.readlines()\n",
        "        lines2 = file2.readlines()\n",
        "\n",
        "    # merge the lines from both files\n",
        "    all_lines = lines1 + lines2\n",
        "\n",
        "    # shuffle the lines randomly\n",
        "    random.shuffle(all_lines)\n",
        "    len_1 = len(lines1)\n",
        "    len_2 = len(lines2)\n",
        "    split_idx = len_2\n",
        "    if len_1 > len_2:\n",
        "        split_idx= len_1\n",
        "\n",
        "    # split the lines into two separate lists\n",
        "    # split_idx = int(len(all_lines) * 0.67)\n",
        "    train_lines = all_lines[:split_idx]\n",
        "    test_lines = all_lines[split_idx:]\n",
        "\n",
        "    # write the lines to separate output files\n",
        "    with open(train_txt, 'w') as train_file, open(test_txt, 'w') as test_file:\n",
        "        train_file.writelines(train_lines)\n",
        "        test_file.writelines(test_lines)\n",
        "\n",
        "input_files_path = [\n",
        "\"/Users/n2t2k/Documents/Studying/Master/Thesis/InProgress/Coding/ORIGIN_RUN_ALL_edge-oriented-graph-master-studying/data/VLSP/processed/vlsp_processed_train_340_date_06_05_1st_filtered.data\",\n",
        "\"/Users/n2t2k/Documents/Studying/Master/Thesis/InProgress/Coding/ORIGIN_RUN_ALL_edge-oriented-graph-master-studying/data/VLSP/processed/vlsp_processed_dev_180_date_06_05_1st_filtered.data\"\n",
        "]\n",
        "output_files_path =[\n",
        "\"/Users/n2t2k/Documents/Studying/Master/Thesis/InProgress/Coding/ORIGIN_RUN_ALL_edge-oriented-graph-master-studying/data/VLSP/processed/vlsp_processed_train_SHUFFLE_340_date_06_05_1st_filtered.data\",\n",
        "\"/Users/n2t2k/Documents/Studying/Master/Thesis/InProgress/Coding/ORIGIN_RUN_ALL_edge-oriented-graph-master-studying/data/VLSP/processed/vlsp_processed_dev_SHUFFLE_180_date_06_05_1st_filtered.data\"\n",
        "]\n",
        "\n",
        "merge_shuffle_split(input_files_path, output_files_path)\n"
      ]
    }
  ],
  "metadata": {
    "accelerator": "GPU",
    "colab": {
      "provenance": []
    },
    "kernelspec": {
      "display_name": "Python 3",
      "name": "python3"
    },
    "language_info": {
      "codemirror_mode": {
        "name": "ipython",
        "version": 3
      },
      "file_extension": ".py",
      "mimetype": "text/x-python",
      "name": "python",
      "nbconvert_exporter": "python",
      "pygments_lexer": "ipython3",
      "version": "3.7.13"
    }
  },
  "nbformat": 4,
  "nbformat_minor": 0
}
