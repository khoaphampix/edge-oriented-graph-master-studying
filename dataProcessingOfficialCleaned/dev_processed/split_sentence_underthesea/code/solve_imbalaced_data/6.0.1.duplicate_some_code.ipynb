{
 "cells": [
  {
   "cell_type": "code",
   "execution_count": null,
   "metadata": {},
   "outputs": [],
   "source": [
    "import json\n",
    "create_ent_sent_json_file = False\n",
    "\n",
    "def write_append_data_to_txt_file(full_path_to_file, txt):\n",
    "    with open(full_path_to_file,'a') as out:\n",
    "        out.write(f'{txt}\\n')\n",
    "        # out.write(f'{txt}')s\n",
    "        \n",
    "def clear_file(full_path_to_files_list):\n",
    "    for _file in full_path_to_files_list:\n",
    "      with open(_file,'w') as out:\n",
    "        out.write(f'')\n",
    "def count_file_line(file_path):\n",
    "    # open file in read mode\n",
    "    with open(file_path, 'r') as fp:\n",
    "        for count, line in enumerate(fp):\n",
    "            pass\n",
    "    print('Total Lines', count + 1)\n"
   ]
  },
  {
   "cell_type": "code",
   "execution_count": null,
   "metadata": {},
   "outputs": [],
   "source": [
    "def duplicate_lines(input_file, output_file, codes_list):\n",
    "    with open(input_file, 'r', encoding='utf-8') as f_in, open(output_file, 'w', encoding='utf-8') as f_out:\n",
    "        for line in f_in:\n",
    "            # line = line.strip()\n",
    "            fields = line[:20].split('\\t')\n",
    "            doc_code = fields[0]\n",
    "            i = -1\n",
    "            for codes in codes_list:\n",
    "                i+=1\n",
    "                if int(doc_code) in codes:\n",
    "                    new_code = f\"00{i}\"+doc_code[2:]\n",
    "                    print(doc_code, new_code)\n",
    "                    line = line.replace(doc_code, new_code)\n",
    "                    f_out.write(line)\n",
    "            f_out.write(line)\n",
    "folder_processed = \\\n",
    "    \"/Users/n2t2k/Documents/Studying/Master/Thesis/InProgress/Coding/ORIGIN_RUN_ALL_edge-oriented-graph-master-studying/data/VLSP/processed\"\n",
    "input_file = folder_processed+\"/\"+'vlsp.data'\n",
    "output_file = folder_processed+\"/\"+'vlsp_duplicate.data'\n",
    "try:\n",
    "    clear_file([output_file])\n",
    "except:\n",
    "    pass\n",
    "code1 = [23354336,23353931,23354910,23351564,23351846,23357752,23355001,23351164,23353913,23353760,23353954,23354082,23351931,23351851,23354656,23351963,23356574,23352671,23351834,23356798,23354648,23351978,23351652,23351990,23356245,23351436,23351430,23351956,23356247,23353721,23351946,23351582,23351856,23351556,23351636,23351260,23351554,23351610,23351923,23353874,23356494,23352718,23354575,23353861,23354219,23351316,23351992,23354400,23351979,23353780,23366740,23351635,23352701,23351394,23353878,23351645,23351440,23356093,23357652,23353830,23351983,23352662,23356511,23353786,23351427,23351700,23357028,23352715,23354085,23351113,23354474,23351952,23352702,23351511,23351615,23351434,23355132,23351649,23358011,23353849,23357266,23354544,23351672,23357897,23351581,23357741,23351424,23355470,23351970,23356193,23351950,23353975,23351651,23354803,23351948,23351937,23351817,23358261,23357389,23352656,23351190,23351214,23351460,23354027,23358104,23357190,23353773,23352675,23351951,23352710,23351809,23353825,23356993,23351831,23352731,23351974]\n",
    "code2 = [23353931,23354910,23351564,23351846,23357752,23355001,23351164,23353913,23353760,23353954,23354082,23351931,23351851,23354656,23351978,23351652,23351990,23356245,23351436,23351430,23351956,23356247,23353721,23351946,23351582,23351856,23351556,23351636,23351260,23351554,23366740,23351635,23352701,23351394,23353878,23351645,23352662,23356511,23353786,23351427]\n",
    "code2 = []\n",
    "if code2:\n",
    "    codes = [code1, code2]\n",
    "else:\n",
    "    codes = [\n",
    "        \n",
    "    ]\n",
    "duplicate_lines(input_file, output_file, codes)\n",
    "\n",
    "count_file_line(input_file)\n",
    "count_file_line(output_file)\n"
   ]
  }
 ],
 "metadata": {
  "kernelspec": {
   "display_name": "reEnv3.7.13",
   "language": "python",
   "name": "python3"
  },
  "language_info": {
   "codemirror_mode": {
    "name": "ipython",
    "version": 3
   },
   "file_extension": ".py",
   "mimetype": "text/x-python",
   "name": "python",
   "nbconvert_exporter": "python",
   "pygments_lexer": "ipython3",
   "version": "3.7.13"
  },
  "orig_nbformat": 4
 },
 "nbformat": 4,
 "nbformat_minor": 2
}
